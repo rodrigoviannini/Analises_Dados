{
 "cells": [
  {
   "cell_type": "markdown",
   "metadata": {},
   "source": [
    "PROJETO - MÓDULO ESTATÍSTICA\n",
    "\n",
    "ALUNOS:\n",
    "\n",
    "RODRIGO VIANNINI\n",
    "\n",
    "LEONARDO AZEVEDO"
   ]
  },
  {
   "cell_type": "markdown",
   "metadata": {},
   "source": [
    "## CONTEXTUALIZAÇÃO\n",
    "\n",
    "A Autoridade De Estatística das Filipinas (PSA) lidera a realização da Pesquisa de Renda e Despesa Familiar (FIES) em todo o país. A pesquisa, realizada a cada 3 (três) anos, tem como objetivo fornecer dados sobre renda e despesas familiares, incluindo, entre outros, níveis de consumo por item de despesa, fontes de renda em dinheiro e informações relacionadas que afetam a renda e níveis de despesas e padrões nas Filipinas. Dessa forma, pede-se que seja elaborado um relatório prévio com insights e análise de dados por parte de um cientista de dados."
   ]
  },
  {
   "cell_type": "code",
   "execution_count": null,
   "metadata": {},
   "outputs": [],
   "source": [
    "# Importando as bibliotecas convencionais\n",
    "\n",
    "import numpy as np\n",
    "import pandas as pd\n",
    "import matplotlib.pyplot as plt\n",
    "import seaborn as sns\n",
    "import plotly.express as px\n",
    "import plotly.io as pio\n",
    "\n",
    "%matplotlib inline"
   ]
  },
  {
   "cell_type": "code",
   "execution_count": null,
   "metadata": {},
   "outputs": [],
   "source": [
    "# importando bibliotecas específicas\n",
    "\n",
    "from sklearn.linear_model import LinearRegression\n",
    "import statsmodels.api as sm\n",
    "from sklearn.metrics import r2_score, mean_squared_error\n",
    "from scipy.stats import norm\n",
    "from statsmodels.stats.weightstats import DescrStatsW, CompareMeans\n",
    "from scipy.stats import pearsonr\n",
    "from sklearn.model_selection import train_test_split\n",
    "from sklearn.metrics import mean_absolute_error\n",
    "from sklearn.metrics import mean_squared_error as MSE\n",
    "from sklearn.metrics import mean_squared_log_error\n",
    "from sklearn.metrics import r2_score"
   ]
  },
  {
   "cell_type": "code",
   "execution_count": null,
   "metadata": {},
   "outputs": [],
   "source": [
    "df = pd.read_csv('https://raw.githubusercontent.com/rodrigoviannini/Analises_Dados/main/Previsao%20de%20Renda%20com%20Regressao%20Linear%20-%20Filipinas/Dados_Renda_Despesa_Filipinas.csv')\n"
   ]
  },
  {
   "cell_type": "code",
   "execution_count": null,
   "metadata": {},
   "outputs": [
    {
     "data": {
      "text/html": [
       "<div>\n",
       "<style scoped>\n",
       "    .dataframe tbody tr th:only-of-type {\n",
       "        vertical-align: middle;\n",
       "    }\n",
       "\n",
       "    .dataframe tbody tr th {\n",
       "        vertical-align: top;\n",
       "    }\n",
       "\n",
       "    .dataframe thead th {\n",
       "        text-align: right;\n",
       "    }\n",
       "</style>\n",
       "<table border=\"1\" class=\"dataframe\">\n",
       "  <thead>\n",
       "    <tr style=\"text-align: right;\">\n",
       "      <th></th>\n",
       "      <th>Total Household Income</th>\n",
       "      <th>Region</th>\n",
       "      <th>Total Food Expenditure</th>\n",
       "      <th>Main Source of Income</th>\n",
       "      <th>Agricultural Household indicator</th>\n",
       "      <th>Bread and Cereals Expenditure</th>\n",
       "      <th>Total Rice Expenditure</th>\n",
       "      <th>Meat Expenditure</th>\n",
       "      <th>Total Fish and  marine products Expenditure</th>\n",
       "      <th>Fruit Expenditure</th>\n",
       "      <th>...</th>\n",
       "      <th>Number of Refrigerator/Freezer</th>\n",
       "      <th>Number of Washing Machine</th>\n",
       "      <th>Number of Airconditioner</th>\n",
       "      <th>Number of Car, Jeep, Van</th>\n",
       "      <th>Number of Landline/wireless telephones</th>\n",
       "      <th>Number of Cellular phone</th>\n",
       "      <th>Number of Personal Computer</th>\n",
       "      <th>Number of Stove with Oven/Gas Range</th>\n",
       "      <th>Number of Motorized Banca</th>\n",
       "      <th>Number of Motorcycle/Tricycle</th>\n",
       "    </tr>\n",
       "  </thead>\n",
       "  <tbody>\n",
       "    <tr>\n",
       "      <th>0</th>\n",
       "      <td>480332</td>\n",
       "      <td>CAR</td>\n",
       "      <td>117848</td>\n",
       "      <td>Wage/Salaries</td>\n",
       "      <td>0</td>\n",
       "      <td>42140</td>\n",
       "      <td>38300</td>\n",
       "      <td>24676</td>\n",
       "      <td>16806</td>\n",
       "      <td>3325</td>\n",
       "      <td>...</td>\n",
       "      <td>1</td>\n",
       "      <td>1</td>\n",
       "      <td>0</td>\n",
       "      <td>0</td>\n",
       "      <td>0</td>\n",
       "      <td>2</td>\n",
       "      <td>1</td>\n",
       "      <td>0</td>\n",
       "      <td>0</td>\n",
       "      <td>1</td>\n",
       "    </tr>\n",
       "    <tr>\n",
       "      <th>1</th>\n",
       "      <td>198235</td>\n",
       "      <td>CAR</td>\n",
       "      <td>67766</td>\n",
       "      <td>Wage/Salaries</td>\n",
       "      <td>0</td>\n",
       "      <td>17329</td>\n",
       "      <td>13008</td>\n",
       "      <td>17434</td>\n",
       "      <td>11073</td>\n",
       "      <td>2035</td>\n",
       "      <td>...</td>\n",
       "      <td>0</td>\n",
       "      <td>1</td>\n",
       "      <td>0</td>\n",
       "      <td>0</td>\n",
       "      <td>0</td>\n",
       "      <td>3</td>\n",
       "      <td>1</td>\n",
       "      <td>0</td>\n",
       "      <td>0</td>\n",
       "      <td>2</td>\n",
       "    </tr>\n",
       "    <tr>\n",
       "      <th>2</th>\n",
       "      <td>82785</td>\n",
       "      <td>CAR</td>\n",
       "      <td>61609</td>\n",
       "      <td>Wage/Salaries</td>\n",
       "      <td>1</td>\n",
       "      <td>34182</td>\n",
       "      <td>32001</td>\n",
       "      <td>7783</td>\n",
       "      <td>2590</td>\n",
       "      <td>1730</td>\n",
       "      <td>...</td>\n",
       "      <td>0</td>\n",
       "      <td>0</td>\n",
       "      <td>0</td>\n",
       "      <td>0</td>\n",
       "      <td>0</td>\n",
       "      <td>0</td>\n",
       "      <td>0</td>\n",
       "      <td>0</td>\n",
       "      <td>0</td>\n",
       "      <td>0</td>\n",
       "    </tr>\n",
       "    <tr>\n",
       "      <th>3</th>\n",
       "      <td>107589</td>\n",
       "      <td>CAR</td>\n",
       "      <td>78189</td>\n",
       "      <td>Wage/Salaries</td>\n",
       "      <td>0</td>\n",
       "      <td>34030</td>\n",
       "      <td>28659</td>\n",
       "      <td>10914</td>\n",
       "      <td>10812</td>\n",
       "      <td>690</td>\n",
       "      <td>...</td>\n",
       "      <td>0</td>\n",
       "      <td>0</td>\n",
       "      <td>0</td>\n",
       "      <td>0</td>\n",
       "      <td>0</td>\n",
       "      <td>1</td>\n",
       "      <td>0</td>\n",
       "      <td>0</td>\n",
       "      <td>0</td>\n",
       "      <td>0</td>\n",
       "    </tr>\n",
       "    <tr>\n",
       "      <th>4</th>\n",
       "      <td>189322</td>\n",
       "      <td>CAR</td>\n",
       "      <td>94625</td>\n",
       "      <td>Wage/Salaries</td>\n",
       "      <td>0</td>\n",
       "      <td>34820</td>\n",
       "      <td>30167</td>\n",
       "      <td>18391</td>\n",
       "      <td>11309</td>\n",
       "      <td>1395</td>\n",
       "      <td>...</td>\n",
       "      <td>1</td>\n",
       "      <td>0</td>\n",
       "      <td>0</td>\n",
       "      <td>0</td>\n",
       "      <td>0</td>\n",
       "      <td>3</td>\n",
       "      <td>0</td>\n",
       "      <td>0</td>\n",
       "      <td>0</td>\n",
       "      <td>1</td>\n",
       "    </tr>\n",
       "  </tbody>\n",
       "</table>\n",
       "<p>5 rows × 60 columns</p>\n",
       "</div>"
      ],
      "text/plain": [
       "   Total Household Income Region  Total Food Expenditure  \\\n",
       "0                  480332    CAR                  117848   \n",
       "1                  198235    CAR                   67766   \n",
       "2                   82785    CAR                   61609   \n",
       "3                  107589    CAR                   78189   \n",
       "4                  189322    CAR                   94625   \n",
       "\n",
       "  Main Source of Income  Agricultural Household indicator  \\\n",
       "0         Wage/Salaries                                 0   \n",
       "1         Wage/Salaries                                 0   \n",
       "2         Wage/Salaries                                 1   \n",
       "3         Wage/Salaries                                 0   \n",
       "4         Wage/Salaries                                 0   \n",
       "\n",
       "   Bread and Cereals Expenditure  Total Rice Expenditure  Meat Expenditure  \\\n",
       "0                          42140                   38300             24676   \n",
       "1                          17329                   13008             17434   \n",
       "2                          34182                   32001              7783   \n",
       "3                          34030                   28659             10914   \n",
       "4                          34820                   30167             18391   \n",
       "\n",
       "   Total Fish and  marine products Expenditure  Fruit Expenditure  ...  \\\n",
       "0                                        16806               3325  ...   \n",
       "1                                        11073               2035  ...   \n",
       "2                                         2590               1730  ...   \n",
       "3                                        10812                690  ...   \n",
       "4                                        11309               1395  ...   \n",
       "\n",
       "   Number of Refrigerator/Freezer  Number of Washing Machine  \\\n",
       "0                               1                          1   \n",
       "1                               0                          1   \n",
       "2                               0                          0   \n",
       "3                               0                          0   \n",
       "4                               1                          0   \n",
       "\n",
       "   Number of Airconditioner  Number of Car, Jeep, Van  \\\n",
       "0                         0                         0   \n",
       "1                         0                         0   \n",
       "2                         0                         0   \n",
       "3                         0                         0   \n",
       "4                         0                         0   \n",
       "\n",
       "   Number of Landline/wireless telephones  Number of Cellular phone  \\\n",
       "0                                       0                         2   \n",
       "1                                       0                         3   \n",
       "2                                       0                         0   \n",
       "3                                       0                         1   \n",
       "4                                       0                         3   \n",
       "\n",
       "   Number of Personal Computer  Number of Stove with Oven/Gas Range  \\\n",
       "0                            1                                    0   \n",
       "1                            1                                    0   \n",
       "2                            0                                    0   \n",
       "3                            0                                    0   \n",
       "4                            0                                    0   \n",
       "\n",
       "   Number of Motorized Banca  Number of Motorcycle/Tricycle  \n",
       "0                          0                              1  \n",
       "1                          0                              2  \n",
       "2                          0                              0  \n",
       "3                          0                              0  \n",
       "4                          0                              1  \n",
       "\n",
       "[5 rows x 60 columns]"
      ]
     },
     "execution_count": 4,
     "metadata": {},
     "output_type": "execute_result"
    }
   ],
   "source": [
    "df.head()"
   ]
  },
  {
   "cell_type": "code",
   "execution_count": null,
   "metadata": {},
   "outputs": [
    {
     "data": {
      "text/plain": [
       "Index(['Total Household Income', 'Region', 'Total Food Expenditure',\n",
       "       'Main Source of Income', 'Agricultural Household indicator',\n",
       "       'Bread and Cereals Expenditure', 'Total Rice Expenditure',\n",
       "       'Meat Expenditure', 'Total Fish and  marine products Expenditure',\n",
       "       'Fruit Expenditure', 'Vegetables Expenditure',\n",
       "       'Restaurant and hotels Expenditure', 'Alcoholic Beverages Expenditure',\n",
       "       'Tobacco Expenditure', 'Clothing, Footwear and Other Wear Expenditure',\n",
       "       'Housing and water Expenditure', 'Imputed House Rental Value',\n",
       "       'Medical Care Expenditure', 'Transportation Expenditure',\n",
       "       'Communication Expenditure', 'Education Expenditure',\n",
       "       'Miscellaneous Goods and Services Expenditure',\n",
       "       'Special Occasions Expenditure', 'Crop Farming and Gardening expenses',\n",
       "       'Total Income from Entrepreneurial Acitivites', 'Household Head Sex',\n",
       "       'Household Head Age', 'Household Head Marital Status',\n",
       "       'Household Head Highest Grade Completed',\n",
       "       'Household Head Job or Business Indicator', 'Household Head Occupation',\n",
       "       'Household Head Class of Worker', 'Type of Household',\n",
       "       'Total Number of Family members',\n",
       "       'Members with age less than 5 year old',\n",
       "       'Members with age 5 - 17 years old',\n",
       "       'Total number of family members employed', 'Type of Building/House',\n",
       "       'Type of Roof', 'Type of Walls', 'House Floor Area', 'House Age',\n",
       "       'Number of bedrooms', 'Tenure Status', 'Toilet Facilities',\n",
       "       'Electricity', 'Main Source of Water Supply', 'Number of Television',\n",
       "       'Number of CD/VCD/DVD', 'Number of Component/Stereo set',\n",
       "       'Number of Refrigerator/Freezer', 'Number of Washing Machine',\n",
       "       'Number of Airconditioner', 'Number of Car, Jeep, Van',\n",
       "       'Number of Landline/wireless telephones', 'Number of Cellular phone',\n",
       "       'Number of Personal Computer', 'Number of Stove with Oven/Gas Range',\n",
       "       'Number of Motorized Banca', 'Number of Motorcycle/Tricycle'],\n",
       "      dtype='object')"
      ]
     },
     "execution_count": 5,
     "metadata": {},
     "output_type": "execute_result"
    }
   ],
   "source": [
    "df.columns"
   ]
  },
  {
   "cell_type": "code",
   "execution_count": null,
   "metadata": {},
   "outputs": [
    {
     "name": "stdout",
     "output_type": "stream",
     "text": [
      "<class 'pandas.core.frame.DataFrame'>\n",
      "RangeIndex: 41544 entries, 0 to 41543\n",
      "Data columns (total 60 columns):\n",
      " #   Column                                         Non-Null Count  Dtype \n",
      "---  ------                                         --------------  ----- \n",
      " 0   Total Household Income                         41544 non-null  int64 \n",
      " 1   Region                                         41544 non-null  object\n",
      " 2   Total Food Expenditure                         41544 non-null  int64 \n",
      " 3   Main Source of Income                          41544 non-null  object\n",
      " 4   Agricultural Household indicator               41544 non-null  int64 \n",
      " 5   Bread and Cereals Expenditure                  41544 non-null  int64 \n",
      " 6   Total Rice Expenditure                         41544 non-null  int64 \n",
      " 7   Meat Expenditure                               41544 non-null  int64 \n",
      " 8   Total Fish and  marine products Expenditure    41544 non-null  int64 \n",
      " 9   Fruit Expenditure                              41544 non-null  int64 \n",
      " 10  Vegetables Expenditure                         41544 non-null  int64 \n",
      " 11  Restaurant and hotels Expenditure              41544 non-null  int64 \n",
      " 12  Alcoholic Beverages Expenditure                41544 non-null  int64 \n",
      " 13  Tobacco Expenditure                            41544 non-null  int64 \n",
      " 14  Clothing, Footwear and Other Wear Expenditure  41544 non-null  int64 \n",
      " 15  Housing and water Expenditure                  41544 non-null  int64 \n",
      " 16  Imputed House Rental Value                     41544 non-null  int64 \n",
      " 17  Medical Care Expenditure                       41544 non-null  int64 \n",
      " 18  Transportation Expenditure                     41544 non-null  int64 \n",
      " 19  Communication Expenditure                      41544 non-null  int64 \n",
      " 20  Education Expenditure                          41544 non-null  int64 \n",
      " 21  Miscellaneous Goods and Services Expenditure   41544 non-null  int64 \n",
      " 22  Special Occasions Expenditure                  41544 non-null  int64 \n",
      " 23  Crop Farming and Gardening expenses            41544 non-null  int64 \n",
      " 24  Total Income from Entrepreneurial Acitivites   41544 non-null  int64 \n",
      " 25  Household Head Sex                             41544 non-null  object\n",
      " 26  Household Head Age                             41544 non-null  int64 \n",
      " 27  Household Head Marital Status                  41544 non-null  object\n",
      " 28  Household Head Highest Grade Completed         41544 non-null  object\n",
      " 29  Household Head Job or Business Indicator       41544 non-null  object\n",
      " 30  Household Head Occupation                      34008 non-null  object\n",
      " 31  Household Head Class of Worker                 34008 non-null  object\n",
      " 32  Type of Household                              41544 non-null  object\n",
      " 33  Total Number of Family members                 41544 non-null  int64 \n",
      " 34  Members with age less than 5 year old          41544 non-null  int64 \n",
      " 35  Members with age 5 - 17 years old              41544 non-null  int64 \n",
      " 36  Total number of family members employed        41544 non-null  int64 \n",
      " 37  Type of Building/House                         41544 non-null  object\n",
      " 38  Type of Roof                                   41544 non-null  object\n",
      " 39  Type of Walls                                  41544 non-null  object\n",
      " 40  House Floor Area                               41544 non-null  int64 \n",
      " 41  House Age                                      41544 non-null  int64 \n",
      " 42  Number of bedrooms                             41544 non-null  int64 \n",
      " 43  Tenure Status                                  41544 non-null  object\n",
      " 44  Toilet Facilities                              41544 non-null  object\n",
      " 45  Electricity                                    41544 non-null  int64 \n",
      " 46  Main Source of Water Supply                    41544 non-null  object\n",
      " 47  Number of Television                           41544 non-null  int64 \n",
      " 48  Number of CD/VCD/DVD                           41544 non-null  int64 \n",
      " 49  Number of Component/Stereo set                 41544 non-null  int64 \n",
      " 50  Number of Refrigerator/Freezer                 41544 non-null  int64 \n",
      " 51  Number of Washing Machine                      41544 non-null  int64 \n",
      " 52  Number of Airconditioner                       41544 non-null  int64 \n",
      " 53  Number of Car, Jeep, Van                       41544 non-null  int64 \n",
      " 54  Number of Landline/wireless telephones         41544 non-null  int64 \n",
      " 55  Number of Cellular phone                       41544 non-null  int64 \n",
      " 56  Number of Personal Computer                    41544 non-null  int64 \n",
      " 57  Number of Stove with Oven/Gas Range            41544 non-null  int64 \n",
      " 58  Number of Motorized Banca                      41544 non-null  int64 \n",
      " 59  Number of Motorcycle/Tricycle                  41544 non-null  int64 \n",
      "dtypes: int64(45), object(15)\n",
      "memory usage: 19.0+ MB\n"
     ]
    }
   ],
   "source": [
    "df.info()"
   ]
  },
  {
   "cell_type": "code",
   "execution_count": null,
   "metadata": {},
   "outputs": [
    {
     "data": {
      "text/plain": [
       "(41544, 60)"
      ]
     },
     "execution_count": 7,
     "metadata": {},
     "output_type": "execute_result"
    }
   ],
   "source": [
    "df.shape"
   ]
  },
  {
   "cell_type": "markdown",
   "metadata": {},
   "source": [
    "## Milestone 1 - Amostra e Descrição\n"
   ]
  },
  {
   "cell_type": "markdown",
   "metadata": {},
   "source": [
    "\n",
    "1. Calcule o tamanho de amostra ideal, considerando que você deseja estimar a média de dinheiro gasto com saúde (Medical Care Expenditure) com um erro máximo de 500, e um nível de confiança de 95%.\n",
    "\n"
   ]
  },
  {
   "cell_type": "code",
   "execution_count": null,
   "metadata": {},
   "outputs": [],
   "source": [
    "## Calcular amostra ideal\n",
    "# Média do $ gasto com saúde [Medical Care Expenditure]\n",
    "# Erro Máximo = 500\n",
    "# Confiança = 95%\n",
    "\n",
    "sigma = df['Medical Care Expenditure'].std()    #desvio padrão do meu gasto com saúde\n",
    "maximum_error = 500\n",
    "trust_level = 0.95\n",
    "significance_level = (1 - trust_level)"
   ]
  },
  {
   "cell_type": "code",
   "execution_count": null,
   "metadata": {},
   "outputs": [
    {
     "data": {
      "text/plain": [
       "1.959963984540054"
      ]
     },
     "execution_count": 9,
     "metadata": {},
     "output_type": "execute_result"
    }
   ],
   "source": [
    "z_alpha_squared = norm.ppf(trust_level + (significance_level / 2))\n",
    "z_alpha_squared"
   ]
  },
  {
   "cell_type": "code",
   "execution_count": null,
   "metadata": {},
   "outputs": [
    {
     "data": {
      "text/plain": [
       "11120.527374834619"
      ]
     },
     "execution_count": 10,
     "metadata": {},
     "output_type": "execute_result"
    }
   ],
   "source": [
    "minimum_number = (z_alpha_squared * sigma / maximum_error) ** 2\n",
    "minimum_number"
   ]
  },
  {
   "cell_type": "code",
   "execution_count": null,
   "metadata": {},
   "outputs": [
    {
     "data": {
      "text/plain": [
       "11121"
      ]
     },
     "execution_count": 11,
     "metadata": {},
     "output_type": "execute_result"
    }
   ],
   "source": [
    "ideal_sample = round(np.ceil(minimum_number))\n",
    "ideal_sample"
   ]
  },
  {
   "cell_type": "markdown",
   "metadata": {},
   "source": [
    "2. Obtenha uma amostra do dataset, considerando o tamanho da amostra que você calculou anteriormente e, em seguida, faça uma análise descritiva dos dados com, pelo menos, 10 variáveis quantitativas."
   ]
  },
  {
   "cell_type": "code",
   "execution_count": null,
   "metadata": {},
   "outputs": [
    {
     "data": {
      "text/html": [
       "<div>\n",
       "<style scoped>\n",
       "    .dataframe tbody tr th:only-of-type {\n",
       "        vertical-align: middle;\n",
       "    }\n",
       "\n",
       "    .dataframe tbody tr th {\n",
       "        vertical-align: top;\n",
       "    }\n",
       "\n",
       "    .dataframe thead th {\n",
       "        text-align: right;\n",
       "    }\n",
       "</style>\n",
       "<table border=\"1\" class=\"dataframe\">\n",
       "  <thead>\n",
       "    <tr style=\"text-align: right;\">\n",
       "      <th></th>\n",
       "      <th>Total Household Income</th>\n",
       "      <th>Region</th>\n",
       "      <th>Total Food Expenditure</th>\n",
       "      <th>Main Source of Income</th>\n",
       "      <th>Agricultural Household indicator</th>\n",
       "      <th>Bread and Cereals Expenditure</th>\n",
       "      <th>Total Rice Expenditure</th>\n",
       "      <th>Meat Expenditure</th>\n",
       "      <th>Total Fish and  marine products Expenditure</th>\n",
       "      <th>Fruit Expenditure</th>\n",
       "      <th>...</th>\n",
       "      <th>Number of Refrigerator/Freezer</th>\n",
       "      <th>Number of Washing Machine</th>\n",
       "      <th>Number of Airconditioner</th>\n",
       "      <th>Number of Car, Jeep, Van</th>\n",
       "      <th>Number of Landline/wireless telephones</th>\n",
       "      <th>Number of Cellular phone</th>\n",
       "      <th>Number of Personal Computer</th>\n",
       "      <th>Number of Stove with Oven/Gas Range</th>\n",
       "      <th>Number of Motorized Banca</th>\n",
       "      <th>Number of Motorcycle/Tricycle</th>\n",
       "    </tr>\n",
       "  </thead>\n",
       "  <tbody>\n",
       "    <tr>\n",
       "      <th>1849</th>\n",
       "      <td>162566</td>\n",
       "      <td>V - Bicol Region</td>\n",
       "      <td>85025</td>\n",
       "      <td>Enterpreneurial Activities</td>\n",
       "      <td>1</td>\n",
       "      <td>28108</td>\n",
       "      <td>22932</td>\n",
       "      <td>3614</td>\n",
       "      <td>10058</td>\n",
       "      <td>3750</td>\n",
       "      <td>...</td>\n",
       "      <td>0</td>\n",
       "      <td>0</td>\n",
       "      <td>0</td>\n",
       "      <td>0</td>\n",
       "      <td>0</td>\n",
       "      <td>3</td>\n",
       "      <td>0</td>\n",
       "      <td>0</td>\n",
       "      <td>0</td>\n",
       "      <td>0</td>\n",
       "    </tr>\n",
       "    <tr>\n",
       "      <th>29179</th>\n",
       "      <td>218765</td>\n",
       "      <td>IVA - CALABARZON</td>\n",
       "      <td>71775</td>\n",
       "      <td>Other sources of Income</td>\n",
       "      <td>0</td>\n",
       "      <td>30273</td>\n",
       "      <td>20091</td>\n",
       "      <td>7180</td>\n",
       "      <td>4092</td>\n",
       "      <td>1300</td>\n",
       "      <td>...</td>\n",
       "      <td>1</td>\n",
       "      <td>0</td>\n",
       "      <td>0</td>\n",
       "      <td>0</td>\n",
       "      <td>0</td>\n",
       "      <td>3</td>\n",
       "      <td>0</td>\n",
       "      <td>0</td>\n",
       "      <td>0</td>\n",
       "      <td>0</td>\n",
       "    </tr>\n",
       "    <tr>\n",
       "      <th>20513</th>\n",
       "      <td>551982</td>\n",
       "      <td>NCR</td>\n",
       "      <td>214203</td>\n",
       "      <td>Wage/Salaries</td>\n",
       "      <td>0</td>\n",
       "      <td>21228</td>\n",
       "      <td>12326</td>\n",
       "      <td>48055</td>\n",
       "      <td>17536</td>\n",
       "      <td>660</td>\n",
       "      <td>...</td>\n",
       "      <td>1</td>\n",
       "      <td>1</td>\n",
       "      <td>0</td>\n",
       "      <td>0</td>\n",
       "      <td>0</td>\n",
       "      <td>3</td>\n",
       "      <td>2</td>\n",
       "      <td>0</td>\n",
       "      <td>0</td>\n",
       "      <td>0</td>\n",
       "    </tr>\n",
       "    <tr>\n",
       "      <th>28910</th>\n",
       "      <td>443465</td>\n",
       "      <td>I - Ilocos Region</td>\n",
       "      <td>223936</td>\n",
       "      <td>Other sources of Income</td>\n",
       "      <td>0</td>\n",
       "      <td>66348</td>\n",
       "      <td>51000</td>\n",
       "      <td>36404</td>\n",
       "      <td>12411</td>\n",
       "      <td>2172</td>\n",
       "      <td>...</td>\n",
       "      <td>1</td>\n",
       "      <td>1</td>\n",
       "      <td>0</td>\n",
       "      <td>0</td>\n",
       "      <td>0</td>\n",
       "      <td>3</td>\n",
       "      <td>1</td>\n",
       "      <td>0</td>\n",
       "      <td>0</td>\n",
       "      <td>1</td>\n",
       "    </tr>\n",
       "    <tr>\n",
       "      <th>2162</th>\n",
       "      <td>144350</td>\n",
       "      <td>ARMM</td>\n",
       "      <td>80055</td>\n",
       "      <td>Enterpreneurial Activities</td>\n",
       "      <td>1</td>\n",
       "      <td>31586</td>\n",
       "      <td>24864</td>\n",
       "      <td>280</td>\n",
       "      <td>15975</td>\n",
       "      <td>2798</td>\n",
       "      <td>...</td>\n",
       "      <td>0</td>\n",
       "      <td>0</td>\n",
       "      <td>0</td>\n",
       "      <td>0</td>\n",
       "      <td>0</td>\n",
       "      <td>2</td>\n",
       "      <td>0</td>\n",
       "      <td>0</td>\n",
       "      <td>1</td>\n",
       "      <td>0</td>\n",
       "    </tr>\n",
       "  </tbody>\n",
       "</table>\n",
       "<p>5 rows × 60 columns</p>\n",
       "</div>"
      ],
      "text/plain": [
       "       Total Household Income             Region  Total Food Expenditure  \\\n",
       "1849                   162566   V - Bicol Region                   85025   \n",
       "29179                  218765   IVA - CALABARZON                   71775   \n",
       "20513                  551982                NCR                  214203   \n",
       "28910                  443465  I - Ilocos Region                  223936   \n",
       "2162                   144350               ARMM                   80055   \n",
       "\n",
       "            Main Source of Income  Agricultural Household indicator  \\\n",
       "1849   Enterpreneurial Activities                                 1   \n",
       "29179     Other sources of Income                                 0   \n",
       "20513               Wage/Salaries                                 0   \n",
       "28910     Other sources of Income                                 0   \n",
       "2162   Enterpreneurial Activities                                 1   \n",
       "\n",
       "       Bread and Cereals Expenditure  Total Rice Expenditure  \\\n",
       "1849                           28108                   22932   \n",
       "29179                          30273                   20091   \n",
       "20513                          21228                   12326   \n",
       "28910                          66348                   51000   \n",
       "2162                           31586                   24864   \n",
       "\n",
       "       Meat Expenditure  Total Fish and  marine products Expenditure  \\\n",
       "1849               3614                                        10058   \n",
       "29179              7180                                         4092   \n",
       "20513             48055                                        17536   \n",
       "28910             36404                                        12411   \n",
       "2162                280                                        15975   \n",
       "\n",
       "       Fruit Expenditure  ...  Number of Refrigerator/Freezer  \\\n",
       "1849                3750  ...                               0   \n",
       "29179               1300  ...                               1   \n",
       "20513                660  ...                               1   \n",
       "28910               2172  ...                               1   \n",
       "2162                2798  ...                               0   \n",
       "\n",
       "       Number of Washing Machine  Number of Airconditioner  \\\n",
       "1849                           0                         0   \n",
       "29179                          0                         0   \n",
       "20513                          1                         0   \n",
       "28910                          1                         0   \n",
       "2162                           0                         0   \n",
       "\n",
       "       Number of Car, Jeep, Van  Number of Landline/wireless telephones  \\\n",
       "1849                          0                                       0   \n",
       "29179                         0                                       0   \n",
       "20513                         0                                       0   \n",
       "28910                         0                                       0   \n",
       "2162                          0                                       0   \n",
       "\n",
       "       Number of Cellular phone  Number of Personal Computer  \\\n",
       "1849                          3                            0   \n",
       "29179                         3                            0   \n",
       "20513                         3                            2   \n",
       "28910                         3                            1   \n",
       "2162                          2                            0   \n",
       "\n",
       "       Number of Stove with Oven/Gas Range  Number of Motorized Banca  \\\n",
       "1849                                     0                          0   \n",
       "29179                                    0                          0   \n",
       "20513                                    0                          0   \n",
       "28910                                    0                          0   \n",
       "2162                                     0                          1   \n",
       "\n",
       "       Number of Motorcycle/Tricycle  \n",
       "1849                               0  \n",
       "29179                              0  \n",
       "20513                              0  \n",
       "28910                              1  \n",
       "2162                               0  \n",
       "\n",
       "[5 rows x 60 columns]"
      ]
     },
     "execution_count": 12,
     "metadata": {},
     "output_type": "execute_result"
    }
   ],
   "source": [
    "new_sample = df.sample(n=ideal_sample, random_state=101)\n",
    "new_sample.head()"
   ]
  },
  {
   "cell_type": "code",
   "execution_count": null,
   "metadata": {},
   "outputs": [
    {
     "data": {
      "text/html": [
       "<div>\n",
       "<style scoped>\n",
       "    .dataframe tbody tr th:only-of-type {\n",
       "        vertical-align: middle;\n",
       "    }\n",
       "\n",
       "    .dataframe tbody tr th {\n",
       "        vertical-align: top;\n",
       "    }\n",
       "\n",
       "    .dataframe thead th {\n",
       "        text-align: right;\n",
       "    }\n",
       "</style>\n",
       "<table border=\"1\" class=\"dataframe\">\n",
       "  <thead>\n",
       "    <tr style=\"text-align: right;\">\n",
       "      <th></th>\n",
       "      <th>Total Household Income</th>\n",
       "      <th>Total Food Expenditure</th>\n",
       "      <th>Main Source of Income</th>\n",
       "      <th>Bread and Cereals Expenditure</th>\n",
       "      <th>Total Rice Expenditure</th>\n",
       "      <th>Meat Expenditure</th>\n",
       "      <th>Housing and water Expenditure</th>\n",
       "      <th>Vegetables Expenditure</th>\n",
       "      <th>Alcoholic Beverages Expenditure</th>\n",
       "    </tr>\n",
       "  </thead>\n",
       "  <tbody>\n",
       "    <tr>\n",
       "      <th>0</th>\n",
       "      <td>480332</td>\n",
       "      <td>117848</td>\n",
       "      <td>Wage/Salaries</td>\n",
       "      <td>42140</td>\n",
       "      <td>38300</td>\n",
       "      <td>24676</td>\n",
       "      <td>63636</td>\n",
       "      <td>13460</td>\n",
       "      <td>0</td>\n",
       "    </tr>\n",
       "    <tr>\n",
       "      <th>1</th>\n",
       "      <td>198235</td>\n",
       "      <td>67766</td>\n",
       "      <td>Wage/Salaries</td>\n",
       "      <td>17329</td>\n",
       "      <td>13008</td>\n",
       "      <td>17434</td>\n",
       "      <td>41370</td>\n",
       "      <td>7833</td>\n",
       "      <td>960</td>\n",
       "    </tr>\n",
       "    <tr>\n",
       "      <th>2</th>\n",
       "      <td>82785</td>\n",
       "      <td>61609</td>\n",
       "      <td>Wage/Salaries</td>\n",
       "      <td>34182</td>\n",
       "      <td>32001</td>\n",
       "      <td>7783</td>\n",
       "      <td>14340</td>\n",
       "      <td>3795</td>\n",
       "      <td>270</td>\n",
       "    </tr>\n",
       "    <tr>\n",
       "      <th>3</th>\n",
       "      <td>107589</td>\n",
       "      <td>78189</td>\n",
       "      <td>Wage/Salaries</td>\n",
       "      <td>34030</td>\n",
       "      <td>28659</td>\n",
       "      <td>10914</td>\n",
       "      <td>16638</td>\n",
       "      <td>7887</td>\n",
       "      <td>480</td>\n",
       "    </tr>\n",
       "    <tr>\n",
       "      <th>4</th>\n",
       "      <td>189322</td>\n",
       "      <td>94625</td>\n",
       "      <td>Wage/Salaries</td>\n",
       "      <td>34820</td>\n",
       "      <td>30167</td>\n",
       "      <td>18391</td>\n",
       "      <td>31122</td>\n",
       "      <td>11260</td>\n",
       "      <td>1040</td>\n",
       "    </tr>\n",
       "  </tbody>\n",
       "</table>\n",
       "</div>"
      ],
      "text/plain": [
       "   Total Household Income  Total Food Expenditure Main Source of Income  \\\n",
       "0                  480332                  117848         Wage/Salaries   \n",
       "1                  198235                   67766         Wage/Salaries   \n",
       "2                   82785                   61609         Wage/Salaries   \n",
       "3                  107589                   78189         Wage/Salaries   \n",
       "4                  189322                   94625         Wage/Salaries   \n",
       "\n",
       "   Bread and Cereals Expenditure  Total Rice Expenditure  Meat Expenditure  \\\n",
       "0                          42140                   38300             24676   \n",
       "1                          17329                   13008             17434   \n",
       "2                          34182                   32001              7783   \n",
       "3                          34030                   28659             10914   \n",
       "4                          34820                   30167             18391   \n",
       "\n",
       "   Housing and water Expenditure  Vegetables Expenditure  \\\n",
       "0                          63636                   13460   \n",
       "1                          41370                    7833   \n",
       "2                          14340                    3795   \n",
       "3                          16638                    7887   \n",
       "4                          31122                   11260   \n",
       "\n",
       "   Alcoholic Beverages Expenditure  \n",
       "0                                0  \n",
       "1                              960  \n",
       "2                              270  \n",
       "3                              480  \n",
       "4                             1040  "
      ]
     },
     "execution_count": 13,
     "metadata": {},
     "output_type": "execute_result"
    }
   ],
   "source": [
    "## VARIÁVEIS QUANTITATIVAS: \n",
    "# 1. renda familiar total, 2. despeza total de alimentos, 3. principal fonte de renda, 4. despesa com paes e cereais, \n",
    "# 5. despeza total de arroz, 6. gastos com carne, 7. despesas de habitação e água, 8. despesas com frutas, 9. gastos com vegetais, \n",
    "# 10. despesas com bebidas alcoolicas\n",
    "\n",
    "df_ten_variables = df[['Total Household Income', 'Total Food Expenditure', 'Main Source of Income', 'Bread and Cereals Expenditure','Total Rice Expenditure', 'Meat Expenditure', 'Housing and water Expenditure', 'Vegetables Expenditure', 'Alcoholic Beverages Expenditure', ]]\n",
    "\n",
    "df_ten_variables.head()\n",
    "\n"
   ]
  },
  {
   "cell_type": "markdown",
   "metadata": {},
   "source": [
    "## Milestone 2 - Inferência Estatística\n",
    "\n"
   ]
  },
  {
   "cell_type": "markdown",
   "metadata": {},
   "source": [
    "1. Utilizando um nível de confiança de 95%, calcule o intervalo de confiança do dinheiro gasto com saúde e educação (colunas: Medical Care Expenditure e Education Expenditure)."
   ]
  },
  {
   "cell_type": "code",
   "execution_count": null,
   "metadata": {},
   "outputs": [],
   "source": [
    "# Confiança = 95%\n",
    "# Calcule o intervalo de confiança do $ gasto com saúde e educação\n",
    "\n",
    "trust_level = 0.95                                               \n",
    "significance_level = (1 - trust_level)                           # alpha\n",
    "\n",
    "average_health = new_sample['Medical Care Expenditure'].mean()   # média de gastos com saúde\n",
    "sample_health = len(new_sample['Medical Care Expenditure'])      # Qtde de amostra de gastos com saúde\n",
    "sigma_health = new_sample['Medical Care Expenditure'].std()              # desvio padrão do meu gasto com saúde\n",
    "\n",
    "average_education = new_sample['Education Expenditure'].mean()   # média de gastos com saúde\n",
    "sample_education = len(new_sample['Education Expenditure'])      # Qtde de amostra de gastos com saúde\n",
    "sigma_education = new_sample['Education Expenditure'].std()              # desvio padrão do meu gasto com saúde"
   ]
  },
  {
   "cell_type": "code",
   "execution_count": null,
   "metadata": {},
   "outputs": [
    {
     "data": {
      "text/plain": [
       "(6673.014229441167, 7605.871482275405)"
      ]
     },
     "execution_count": 15,
     "metadata": {},
     "output_type": "execute_result"
    }
   ],
   "source": [
    "# Intervalo de confiança de gastos com saúde\n",
    "\n",
    "interval_trust_health = norm.interval(trust_level, loc=average_health, scale=(sigma_health / np.sqrt(sample_health)))\n",
    "interval_trust_health"
   ]
  },
  {
   "cell_type": "code",
   "execution_count": null,
   "metadata": {},
   "outputs": [
    {
     "data": {
      "text/plain": [
       "(6923.435952773181, 7650.380610485519)"
      ]
     },
     "execution_count": 16,
     "metadata": {},
     "output_type": "execute_result"
    }
   ],
   "source": [
    "# Intervalo de confiança de gastos com educação\n",
    "\n",
    "interval_trust_education = norm.interval(trust_level, loc=average_education, scale=(sigma_education / np.sqrt(sample_education)))\n",
    "interval_trust_education"
   ]
  },
  {
   "cell_type": "markdown",
   "metadata": {},
   "source": [
    "2. Calcule se há diferença de média de número total de membros da família pelo sexo do chefe de família (Household Head Sex e Total Number of Family members) com 95% de confiança.\n",
    "\n"
   ]
  },
  {
   "cell_type": "code",
   "execution_count": null,
   "metadata": {},
   "outputs": [
    {
     "data": {
      "text/plain": [
       "Male      8691\n",
       "Female    2430\n",
       "Name: Household Head Sex, dtype: int64"
      ]
     },
     "execution_count": 17,
     "metadata": {},
     "output_type": "execute_result"
    }
   ],
   "source": [
    "# Há diferença de média de número total de membros da família pelo sexo do chefe de família?\n",
    "new_sample['Household Head Sex'].value_counts()"
   ]
  },
  {
   "cell_type": "code",
   "execution_count": null,
   "metadata": {},
   "outputs": [
    {
     "data": {
      "text/plain": [
       "8691"
      ]
     },
     "execution_count": 18,
     "metadata": {},
     "output_type": "execute_result"
    }
   ],
   "source": [
    "# Chefe de família - Homem\n",
    "male_householder = new_sample[new_sample['Household Head Sex'] == 'Male']\n",
    "male_householder.shape[0]"
   ]
  },
  {
   "cell_type": "code",
   "execution_count": null,
   "metadata": {},
   "outputs": [
    {
     "data": {
      "text/plain": [
       "2430"
      ]
     },
     "execution_count": 19,
     "metadata": {},
     "output_type": "execute_result"
    }
   ],
   "source": [
    "# Chefe de família - Mulher\n",
    "female_householder = new_sample[new_sample['Household Head Sex'] == 'Female']\n",
    "female_householder.shape[0]"
   ]
  },
  {
   "cell_type": "code",
   "execution_count": null,
   "metadata": {},
   "outputs": [
    {
     "data": {
      "text/plain": [
       "(4.861350822690139, 2.257882949418086)"
      ]
     },
     "execution_count": 20,
     "metadata": {},
     "output_type": "execute_result"
    }
   ],
   "source": [
    "# Média e desvio padrão de homens como chefes de família\n",
    "average_male = male_householder['Total Number of Family members'].mean()\n",
    "sigma_male = male_householder['Total Number of Family members'].std()\n",
    "average_male, sigma_male"
   ]
  },
  {
   "cell_type": "code",
   "execution_count": null,
   "metadata": {},
   "outputs": [
    {
     "data": {
      "text/plain": [
       "(3.8465020576131685, 2.2499023598492838)"
      ]
     },
     "execution_count": 21,
     "metadata": {},
     "output_type": "execute_result"
    }
   ],
   "source": [
    "# Média e desvio padrão de mulheres como chefes de família\n",
    "average_female = female_householder['Total Number of Family members'].mean()\n",
    "sigma_female = female_householder['Total Number of Family members'].std()\n",
    "average_female, sigma_female"
   ]
  },
  {
   "cell_type": "code",
   "execution_count": null,
   "metadata": {},
   "outputs": [],
   "source": [
    "# Calcular a diferença - confiança = 95%\n",
    "trust_level = 0.95   \n",
    "significance_level = (1 - trust_level)      # alpha\n",
    "\n",
    "quantity_men = len(male_householder)\n",
    "quantity_women = len(female_householder)\n",
    "D0 = 0\n"
   ]
  },
  {
   "cell_type": "code",
   "execution_count": null,
   "metadata": {},
   "outputs": [
    {
     "data": {
      "text/plain": [
       "19.641145336535892"
      ]
     },
     "execution_count": 23,
     "metadata": {},
     "output_type": "execute_result"
    }
   ],
   "source": [
    "numerator = (average_male - average_female) - D0\n",
    "denominator = np.sqrt((sigma_male ** 2 / quantity_men) + (sigma_female ** 2 / quantity_women))\n",
    "Z = (numerator / denominator)\n",
    "Z"
   ]
  },
  {
   "cell_type": "code",
   "execution_count": null,
   "metadata": {},
   "outputs": [
    {
     "data": {
      "text/plain": [
       "6.882826265315254e-86"
      ]
     },
     "execution_count": 24,
     "metadata": {},
     "output_type": "execute_result"
    }
   ],
   "source": [
    "p_value = norm.sf(Z) * 2\n",
    "p_value"
   ]
  },
  {
   "cell_type": "code",
   "execution_count": null,
   "metadata": {},
   "outputs": [
    {
     "data": {
      "text/plain": [
       "1.959963984540054"
      ]
     },
     "execution_count": 25,
     "metadata": {},
     "output_type": "execute_result"
    }
   ],
   "source": [
    "# Z de (alpha)² \n",
    "z_alpha_squared = norm.ppf(trust_level + (significance_level / 2))\n",
    "z_alpha_squared"
   ]
  },
  {
   "cell_type": "code",
   "execution_count": null,
   "metadata": {},
   "outputs": [
    {
     "data": {
      "text/plain": [
       "True"
      ]
     },
     "execution_count": 26,
     "metadata": {},
     "output_type": "execute_result"
    }
   ],
   "source": [
    "# h0 -> Descartar: Z >= z_alpha_squared\n",
    "Z >= z_alpha_squared"
   ]
  },
  {
   "cell_type": "code",
   "execution_count": null,
   "metadata": {},
   "outputs": [
    {
     "data": {
      "text/plain": [
       "True"
      ]
     },
     "execution_count": 27,
     "metadata": {},
     "output_type": "execute_result"
    }
   ],
   "source": [
    "# h0 -> Descartar: p_value <= significance_level (alpha)\n",
    "p_value <= significance_level"
   ]
  },
  {
   "cell_type": "markdown",
   "metadata": {},
   "source": [
    "H0 = m1 - m2 -> (average_male - average_female)\n",
    "\n",
    "---\n",
    "\n",
    "\n",
    "H1 = m1 - m2! -> (average_male - average_female!)"
   ]
  },
  {
   "cell_type": "code",
   "execution_count": null,
   "metadata": {},
   "outputs": [],
   "source": [
    "# Testar\n",
    "# Estatísticas descritivas e testes com pesos para pesos de caso\n",
    "test_male = DescrStatsW(male_householder['Total Number of Family members'])\n",
    "test_female = DescrStatsW(female_householder['Total Number of Family members'])"
   ]
  },
  {
   "cell_type": "code",
   "execution_count": null,
   "metadata": {},
   "outputs": [],
   "source": [
    "# Comparar\n",
    "# classe para dois exemplos de comparação\n",
    "to_compare_sex = CompareMeans(test_male, test_female)"
   ]
  },
  {
   "cell_type": "code",
   "execution_count": null,
   "metadata": {},
   "outputs": [
    {
     "data": {
      "text/plain": [
       "(19.602027594446085, 1.4858393205614605e-85)"
      ]
     },
     "execution_count": 30,
     "metadata": {},
     "output_type": "execute_result"
    }
   ],
   "source": [
    "# Z Test\n",
    "# A função ztest.ind() testa a hipótese nula de que de que as duas distribuições possuem médias idênticas.\n",
    "Z, p_value = to_compare_sex.ztest_ind()\n",
    "Z, p_value\n"
   ]
  },
  {
   "cell_type": "markdown",
   "metadata": {},
   "source": [
    "- Z:    Nas estatísticas, um escore-z (ou escore padrão) de uma observação é o número de desvios padrão acima ou abaixo da média da população. Para calcular um escore z, é necessário saber a média da população e o desvio padrão da população.\n",
    "\n",
    "---\n",
    "\n",
    "- p-value:   Na estatística clássica, o valor-p, é a probabilidade de se obter uma estatística de teste igual ou mais extrema que aquela observada em uma amostra, sob a hipótese nula. Por exemplo, em testes de hipótese, pode-se rejeitar a hipótese nula a 5% caso o valor-p seja menor que 5%"
   ]
  },
  {
   "cell_type": "markdown",
   "metadata": {},
   "source": [
    "\n",
    "-   RESPOSTA: Há diferenças de média do número total de membros da família pelo sexo do householder\n"
   ]
  },
  {
   "cell_type": "code",
   "execution_count": null,
   "metadata": {},
   "outputs": [],
   "source": [
    "# Calcular a diferença - confiança = 95%\n",
    "trust_level = 0.95   \n",
    "significance_level = (1 - trust_level)      # alpha\n",
    "\n",
    "quantity_men = len(male_householder)\n",
    "quantity_women = len(female_householder)\n",
    "D0 = 0\n"
   ]
  },
  {
   "cell_type": "code",
   "execution_count": null,
   "metadata": {},
   "outputs": [
    {
     "data": {
      "text/plain": [
       "19.641145336535892"
      ]
     },
     "execution_count": 32,
     "metadata": {},
     "output_type": "execute_result"
    }
   ],
   "source": [
    "numerator = (average_male - average_female) - D0\n",
    "denominator = np.sqrt((sigma_male ** 2 / quantity_men) + (sigma_female ** 2 / quantity_women))\n",
    "Z = (numerator / denominator)\n",
    "Z"
   ]
  },
  {
   "cell_type": "code",
   "execution_count": null,
   "metadata": {},
   "outputs": [
    {
     "data": {
      "text/plain": [
       "6.882826265315254e-86"
      ]
     },
     "execution_count": 33,
     "metadata": {},
     "output_type": "execute_result"
    }
   ],
   "source": [
    "p_value = norm.sf(Z) * 2\n",
    "p_value"
   ]
  },
  {
   "cell_type": "code",
   "execution_count": null,
   "metadata": {},
   "outputs": [
    {
     "data": {
      "text/plain": [
       "1.959963984540054"
      ]
     },
     "execution_count": 34,
     "metadata": {},
     "output_type": "execute_result"
    }
   ],
   "source": [
    "# Z de (alpha)² \n",
    "z_alpha_squared = norm.ppf(trust_level + (significance_level / 2))\n",
    "z_alpha_squared"
   ]
  },
  {
   "cell_type": "code",
   "execution_count": null,
   "metadata": {},
   "outputs": [
    {
     "data": {
      "text/plain": [
       "True"
      ]
     },
     "execution_count": 35,
     "metadata": {},
     "output_type": "execute_result"
    }
   ],
   "source": [
    "# h0 -> Descartar: Z >= z_alpha_squared\n",
    "Z >= z_alpha_squared"
   ]
  },
  {
   "cell_type": "code",
   "execution_count": null,
   "metadata": {},
   "outputs": [
    {
     "data": {
      "text/plain": [
       "True"
      ]
     },
     "execution_count": 36,
     "metadata": {},
     "output_type": "execute_result"
    }
   ],
   "source": [
    "# h0 -> Descartar: p_value <= significance_level (alpha)\n",
    "p_value <= significance_level"
   ]
  },
  {
   "cell_type": "markdown",
   "metadata": {},
   "source": [
    "3. Verifique se há diferença de média total de renda da família (Total Household Income) de acordo com a fonte salarial (Main Source of Income).\n",
    "   OBS: Considere “Enteroreneurial activities” e “other sources of income” como \"outros\"."
   ]
  },
  {
   "cell_type": "code",
   "execution_count": null,
   "metadata": {},
   "outputs": [
    {
     "data": {
      "text/plain": [
       "Wage/Salaries                 5517\n",
       "Other sources of Income       2887\n",
       "Enterpreneurial Activities    2717\n",
       "Name: Main Source of Income, dtype: int64"
      ]
     },
     "execution_count": 37,
     "metadata": {},
     "output_type": "execute_result"
    }
   ],
   "source": [
    "# Visualizar todos os valores\n",
    "new_sample['Main Source of Income'].value_counts() # Principal fonte de renda\n"
   ]
  },
  {
   "cell_type": "code",
   "execution_count": null,
   "metadata": {},
   "outputs": [
    {
     "data": {
      "text/plain": [
       "other            5604\n",
       "Wage/Salaries    5517\n",
       "Name: Main Source of Income, dtype: int64"
      ]
     },
     "execution_count": 38,
     "metadata": {},
     "output_type": "execute_result"
    }
   ],
   "source": [
    "# Substituir os nomes 'Other sources of Income', 'Enterpreneurial Activities' por 'other'\n",
    "# Vizualizar modificação\n",
    "new_sample['Main Source of Income'].replace(['Other sources of Income', 'Enterpreneurial Activities'], 'other', inplace = True)\n",
    "new_sample['Main Source of Income'].value_counts()\n"
   ]
  },
  {
   "cell_type": "code",
   "execution_count": null,
   "metadata": {},
   "outputs": [
    {
     "data": {
      "text/html": [
       "<div>\n",
       "<style scoped>\n",
       "    .dataframe tbody tr th:only-of-type {\n",
       "        vertical-align: middle;\n",
       "    }\n",
       "\n",
       "    .dataframe tbody tr th {\n",
       "        vertical-align: top;\n",
       "    }\n",
       "\n",
       "    .dataframe thead th {\n",
       "        text-align: right;\n",
       "    }\n",
       "</style>\n",
       "<table border=\"1\" class=\"dataframe\">\n",
       "  <thead>\n",
       "    <tr style=\"text-align: right;\">\n",
       "      <th></th>\n",
       "      <th>Total Household Income</th>\n",
       "      <th>Region</th>\n",
       "      <th>Total Food Expenditure</th>\n",
       "      <th>Main Source of Income</th>\n",
       "      <th>Agricultural Household indicator</th>\n",
       "      <th>Bread and Cereals Expenditure</th>\n",
       "      <th>Total Rice Expenditure</th>\n",
       "      <th>Meat Expenditure</th>\n",
       "      <th>Total Fish and  marine products Expenditure</th>\n",
       "      <th>Fruit Expenditure</th>\n",
       "      <th>...</th>\n",
       "      <th>Number of Refrigerator/Freezer</th>\n",
       "      <th>Number of Washing Machine</th>\n",
       "      <th>Number of Airconditioner</th>\n",
       "      <th>Number of Car, Jeep, Van</th>\n",
       "      <th>Number of Landline/wireless telephones</th>\n",
       "      <th>Number of Cellular phone</th>\n",
       "      <th>Number of Personal Computer</th>\n",
       "      <th>Number of Stove with Oven/Gas Range</th>\n",
       "      <th>Number of Motorized Banca</th>\n",
       "      <th>Number of Motorcycle/Tricycle</th>\n",
       "    </tr>\n",
       "  </thead>\n",
       "  <tbody>\n",
       "    <tr>\n",
       "      <th>20513</th>\n",
       "      <td>551982</td>\n",
       "      <td>NCR</td>\n",
       "      <td>214203</td>\n",
       "      <td>Wage/Salaries</td>\n",
       "      <td>0</td>\n",
       "      <td>21228</td>\n",
       "      <td>12326</td>\n",
       "      <td>48055</td>\n",
       "      <td>17536</td>\n",
       "      <td>660</td>\n",
       "      <td>...</td>\n",
       "      <td>1</td>\n",
       "      <td>1</td>\n",
       "      <td>0</td>\n",
       "      <td>0</td>\n",
       "      <td>0</td>\n",
       "      <td>3</td>\n",
       "      <td>2</td>\n",
       "      <td>0</td>\n",
       "      <td>0</td>\n",
       "      <td>0</td>\n",
       "    </tr>\n",
       "    <tr>\n",
       "      <th>29955</th>\n",
       "      <td>303000</td>\n",
       "      <td>IVA - CALABARZON</td>\n",
       "      <td>113739</td>\n",
       "      <td>Wage/Salaries</td>\n",
       "      <td>0</td>\n",
       "      <td>20422</td>\n",
       "      <td>13390</td>\n",
       "      <td>19458</td>\n",
       "      <td>6488</td>\n",
       "      <td>2480</td>\n",
       "      <td>...</td>\n",
       "      <td>1</td>\n",
       "      <td>1</td>\n",
       "      <td>0</td>\n",
       "      <td>0</td>\n",
       "      <td>0</td>\n",
       "      <td>2</td>\n",
       "      <td>2</td>\n",
       "      <td>1</td>\n",
       "      <td>0</td>\n",
       "      <td>0</td>\n",
       "    </tr>\n",
       "  </tbody>\n",
       "</table>\n",
       "<p>2 rows × 60 columns</p>\n",
       "</div>"
      ],
      "text/plain": [
       "       Total Household Income            Region  Total Food Expenditure  \\\n",
       "20513                  551982               NCR                  214203   \n",
       "29955                  303000  IVA - CALABARZON                  113739   \n",
       "\n",
       "      Main Source of Income  Agricultural Household indicator  \\\n",
       "20513         Wage/Salaries                                 0   \n",
       "29955         Wage/Salaries                                 0   \n",
       "\n",
       "       Bread and Cereals Expenditure  Total Rice Expenditure  \\\n",
       "20513                          21228                   12326   \n",
       "29955                          20422                   13390   \n",
       "\n",
       "       Meat Expenditure  Total Fish and  marine products Expenditure  \\\n",
       "20513             48055                                        17536   \n",
       "29955             19458                                         6488   \n",
       "\n",
       "       Fruit Expenditure  ...  Number of Refrigerator/Freezer  \\\n",
       "20513                660  ...                               1   \n",
       "29955               2480  ...                               1   \n",
       "\n",
       "       Number of Washing Machine  Number of Airconditioner  \\\n",
       "20513                          1                         0   \n",
       "29955                          1                         0   \n",
       "\n",
       "       Number of Car, Jeep, Van  Number of Landline/wireless telephones  \\\n",
       "20513                         0                                       0   \n",
       "29955                         0                                       0   \n",
       "\n",
       "       Number of Cellular phone  Number of Personal Computer  \\\n",
       "20513                         3                            2   \n",
       "29955                         2                            2   \n",
       "\n",
       "       Number of Stove with Oven/Gas Range  Number of Motorized Banca  \\\n",
       "20513                                    0                          0   \n",
       "29955                                    1                          0   \n",
       "\n",
       "       Number of Motorcycle/Tricycle  \n",
       "20513                              0  \n",
       "29955                              0  \n",
       "\n",
       "[2 rows x 60 columns]"
      ]
     },
     "execution_count": 39,
     "metadata": {},
     "output_type": "execute_result"
    }
   ],
   "source": [
    "wage_salaries = new_sample[new_sample['Main Source of Income'] == 'Wage/Salaries']\n",
    "wage_salaries.head(2)\n"
   ]
  },
  {
   "cell_type": "code",
   "execution_count": null,
   "metadata": {},
   "outputs": [
    {
     "data": {
      "text/plain": [
       "5517"
      ]
     },
     "execution_count": 40,
     "metadata": {},
     "output_type": "execute_result"
    }
   ],
   "source": [
    "wage_salaries.shape[0]"
   ]
  },
  {
   "cell_type": "code",
   "execution_count": null,
   "metadata": {},
   "outputs": [
    {
     "data": {
      "text/html": [
       "<div>\n",
       "<style scoped>\n",
       "    .dataframe tbody tr th:only-of-type {\n",
       "        vertical-align: middle;\n",
       "    }\n",
       "\n",
       "    .dataframe tbody tr th {\n",
       "        vertical-align: top;\n",
       "    }\n",
       "\n",
       "    .dataframe thead th {\n",
       "        text-align: right;\n",
       "    }\n",
       "</style>\n",
       "<table border=\"1\" class=\"dataframe\">\n",
       "  <thead>\n",
       "    <tr style=\"text-align: right;\">\n",
       "      <th></th>\n",
       "      <th>Total Household Income</th>\n",
       "      <th>Region</th>\n",
       "      <th>Total Food Expenditure</th>\n",
       "      <th>Main Source of Income</th>\n",
       "      <th>Agricultural Household indicator</th>\n",
       "      <th>Bread and Cereals Expenditure</th>\n",
       "      <th>Total Rice Expenditure</th>\n",
       "      <th>Meat Expenditure</th>\n",
       "      <th>Total Fish and  marine products Expenditure</th>\n",
       "      <th>Fruit Expenditure</th>\n",
       "      <th>...</th>\n",
       "      <th>Number of Refrigerator/Freezer</th>\n",
       "      <th>Number of Washing Machine</th>\n",
       "      <th>Number of Airconditioner</th>\n",
       "      <th>Number of Car, Jeep, Van</th>\n",
       "      <th>Number of Landline/wireless telephones</th>\n",
       "      <th>Number of Cellular phone</th>\n",
       "      <th>Number of Personal Computer</th>\n",
       "      <th>Number of Stove with Oven/Gas Range</th>\n",
       "      <th>Number of Motorized Banca</th>\n",
       "      <th>Number of Motorcycle/Tricycle</th>\n",
       "    </tr>\n",
       "  </thead>\n",
       "  <tbody>\n",
       "    <tr>\n",
       "      <th>1849</th>\n",
       "      <td>162566</td>\n",
       "      <td>V - Bicol Region</td>\n",
       "      <td>85025</td>\n",
       "      <td>other</td>\n",
       "      <td>1</td>\n",
       "      <td>28108</td>\n",
       "      <td>22932</td>\n",
       "      <td>3614</td>\n",
       "      <td>10058</td>\n",
       "      <td>3750</td>\n",
       "      <td>...</td>\n",
       "      <td>0</td>\n",
       "      <td>0</td>\n",
       "      <td>0</td>\n",
       "      <td>0</td>\n",
       "      <td>0</td>\n",
       "      <td>3</td>\n",
       "      <td>0</td>\n",
       "      <td>0</td>\n",
       "      <td>0</td>\n",
       "      <td>0</td>\n",
       "    </tr>\n",
       "    <tr>\n",
       "      <th>29179</th>\n",
       "      <td>218765</td>\n",
       "      <td>IVA - CALABARZON</td>\n",
       "      <td>71775</td>\n",
       "      <td>other</td>\n",
       "      <td>0</td>\n",
       "      <td>30273</td>\n",
       "      <td>20091</td>\n",
       "      <td>7180</td>\n",
       "      <td>4092</td>\n",
       "      <td>1300</td>\n",
       "      <td>...</td>\n",
       "      <td>1</td>\n",
       "      <td>0</td>\n",
       "      <td>0</td>\n",
       "      <td>0</td>\n",
       "      <td>0</td>\n",
       "      <td>3</td>\n",
       "      <td>0</td>\n",
       "      <td>0</td>\n",
       "      <td>0</td>\n",
       "      <td>0</td>\n",
       "    </tr>\n",
       "  </tbody>\n",
       "</table>\n",
       "<p>2 rows × 60 columns</p>\n",
       "</div>"
      ],
      "text/plain": [
       "       Total Household Income            Region  Total Food Expenditure  \\\n",
       "1849                   162566  V - Bicol Region                   85025   \n",
       "29179                  218765  IVA - CALABARZON                   71775   \n",
       "\n",
       "      Main Source of Income  Agricultural Household indicator  \\\n",
       "1849                  other                                 1   \n",
       "29179                 other                                 0   \n",
       "\n",
       "       Bread and Cereals Expenditure  Total Rice Expenditure  \\\n",
       "1849                           28108                   22932   \n",
       "29179                          30273                   20091   \n",
       "\n",
       "       Meat Expenditure  Total Fish and  marine products Expenditure  \\\n",
       "1849               3614                                        10058   \n",
       "29179              7180                                         4092   \n",
       "\n",
       "       Fruit Expenditure  ...  Number of Refrigerator/Freezer  \\\n",
       "1849                3750  ...                               0   \n",
       "29179               1300  ...                               1   \n",
       "\n",
       "       Number of Washing Machine  Number of Airconditioner  \\\n",
       "1849                           0                         0   \n",
       "29179                          0                         0   \n",
       "\n",
       "       Number of Car, Jeep, Van  Number of Landline/wireless telephones  \\\n",
       "1849                          0                                       0   \n",
       "29179                         0                                       0   \n",
       "\n",
       "       Number of Cellular phone  Number of Personal Computer  \\\n",
       "1849                          3                            0   \n",
       "29179                         3                            0   \n",
       "\n",
       "       Number of Stove with Oven/Gas Range  Number of Motorized Banca  \\\n",
       "1849                                     0                          0   \n",
       "29179                                    0                          0   \n",
       "\n",
       "       Number of Motorcycle/Tricycle  \n",
       "1849                               0  \n",
       "29179                              0  \n",
       "\n",
       "[2 rows x 60 columns]"
      ]
     },
     "execution_count": 41,
     "metadata": {},
     "output_type": "execute_result"
    }
   ],
   "source": [
    "other = new_sample[new_sample['Main Source of Income'] == 'other']\n",
    "other.head(2)"
   ]
  },
  {
   "cell_type": "code",
   "execution_count": null,
   "metadata": {},
   "outputs": [
    {
     "data": {
      "text/plain": [
       "5604"
      ]
     },
     "execution_count": 42,
     "metadata": {},
     "output_type": "execute_result"
    }
   ],
   "source": [
    "other.shape[0]"
   ]
  },
  {
   "cell_type": "code",
   "execution_count": null,
   "metadata": {},
   "outputs": [],
   "source": [
    "test_income = DescrStatsW(wage_salaries['Total Household Income'])\n",
    "test_total_income = DescrStatsW(other['Total Household Income'])"
   ]
  },
  {
   "cell_type": "code",
   "execution_count": null,
   "metadata": {},
   "outputs": [],
   "source": [
    "to_compare_income = CompareMeans(test_income, test_total_income)"
   ]
  },
  {
   "cell_type": "code",
   "execution_count": null,
   "metadata": {},
   "outputs": [
    {
     "data": {
      "text/plain": [
       "(7.059219960270567, 1.6743984879045323e-12)"
      ]
     },
     "execution_count": 45,
     "metadata": {},
     "output_type": "execute_result"
    }
   ],
   "source": [
    "Z, p_value = to_compare_income.ztest_ind()\n",
    "Z, p_value"
   ]
  },
  {
   "cell_type": "markdown",
   "metadata": {},
   "source": [
    "- Z:    Nas estatísticas, um escore-z (ou escore padrão) de uma observação é o número de desvios padrão acima ou abaixo da média da população. Para calcular um escore z, é necessário saber a média da população e o desvio padrão da população.\n",
    "\n",
    "---\n",
    "\n",
    "- p-value:   Na estatística clássica, o valor-p, é a probabilidade de se obter uma estatística de teste igual ou mais extrema que aquela observada em uma amostra, sob a hipótese nula. Por exemplo, em testes de hipótese, pode-se rejeitar a hipótese nula a 5% caso o valor-p seja menor que 5%"
   ]
  },
  {
   "cell_type": "code",
   "execution_count": null,
   "metadata": {},
   "outputs": [
    {
     "data": {
      "text/plain": [
       "(267885.33822729747, 256987.2985226311)"
      ]
     },
     "execution_count": 46,
     "metadata": {},
     "output_type": "execute_result"
    }
   ],
   "source": [
    "average_income_family_salaried = wage_salaries['Total Household Income'].mean()\n",
    "sigma_income_family_salaried = wage_salaries['Total Household Income'].std()\n",
    "average_income_family_salaried, sigma_income_family_salaried"
   ]
  },
  {
   "cell_type": "code",
   "execution_count": null,
   "metadata": {},
   "outputs": [
    {
     "data": {
      "text/plain": [
       "(229955.13668807995, 307021.60079944204)"
      ]
     },
     "execution_count": 47,
     "metadata": {},
     "output_type": "execute_result"
    }
   ],
   "source": [
    "average_total_family_income = other['Total Household Income'].mean()\n",
    "sigma_total_family_income = other['Total Household Income'].std()\n",
    "average_total_family_income, sigma_total_family_income"
   ]
  },
  {
   "cell_type": "markdown",
   "metadata": {},
   "source": [
    "H0 = m1 - m2 -> (average_income_family_salaried - average_total_family_income)\n",
    "\n",
    "---\n",
    "\n",
    "\n",
    "H1 = m1 - m2! -> (average_income_family_salaried - average_total_family_income!)"
   ]
  },
  {
   "cell_type": "code",
   "execution_count": null,
   "metadata": {},
   "outputs": [],
   "source": [
    "# Calcular a diferença - confiança = 95%\n",
    "trust_level = 0.95   \n",
    "significance_level = (1 - trust_level)      # alpha\n",
    "\n",
    "quantity_wage_salaries = len(wage_salaries)\n",
    "quantity_other = len(other)\n",
    "D0 = 0"
   ]
  },
  {
   "cell_type": "code",
   "execution_count": null,
   "metadata": {},
   "outputs": [
    {
     "data": {
      "text/plain": [
       "7.068949178953923"
      ]
     },
     "execution_count": 49,
     "metadata": {},
     "output_type": "execute_result"
    }
   ],
   "source": [
    "numerator = (average_income_family_salaried - average_total_family_income) - D0\n",
    "denominator = np.sqrt((sigma_income_family_salaried ** 2 / quantity_wage_salaries) + (sigma_total_family_income ** 2 / quantity_other))\n",
    "Z = (numerator / denominator)\n",
    "Z"
   ]
  },
  {
   "cell_type": "code",
   "execution_count": null,
   "metadata": {},
   "outputs": [
    {
     "data": {
      "text/plain": [
       "1.5611130293736158e-12"
      ]
     },
     "execution_count": 50,
     "metadata": {},
     "output_type": "execute_result"
    }
   ],
   "source": [
    "p_value = norm.sf(Z) * 2\n",
    "p_value"
   ]
  },
  {
   "cell_type": "code",
   "execution_count": null,
   "metadata": {},
   "outputs": [
    {
     "data": {
      "text/plain": [
       "1.959963984540054"
      ]
     },
     "execution_count": 51,
     "metadata": {},
     "output_type": "execute_result"
    }
   ],
   "source": [
    "# Z de (alpha)² \n",
    "z_alpha_squared = norm.ppf(trust_level + (significance_level / 2))\n",
    "z_alpha_squared"
   ]
  },
  {
   "cell_type": "code",
   "execution_count": null,
   "metadata": {},
   "outputs": [
    {
     "data": {
      "text/plain": [
       "True"
      ]
     },
     "execution_count": 52,
     "metadata": {},
     "output_type": "execute_result"
    }
   ],
   "source": [
    "# h0 -> Descartar: Z >= z_alpha_squared\n",
    "Z >= z_alpha_squared"
   ]
  },
  {
   "cell_type": "code",
   "execution_count": null,
   "metadata": {},
   "outputs": [
    {
     "data": {
      "text/plain": [
       "True"
      ]
     },
     "execution_count": 53,
     "metadata": {},
     "output_type": "execute_result"
    }
   ],
   "source": [
    "# h1 -> Descartar: p_value <= significance_level (alpha)\n",
    "p_value <= significance_level"
   ]
  },
  {
   "cell_type": "markdown",
   "metadata": {},
   "source": [
    "\n",
    "-   RESPOSTA: Há diferença de média entre rendas de famílias assalariadas e de famílias com outras rendas."
   ]
  },
  {
   "cell_type": "markdown",
   "metadata": {},
   "source": [
    "\n",
    "## Milestone 3 - Previsão de Renda Com Regressão Linear\n"
   ]
  },
  {
   "cell_type": "markdown",
   "metadata": {},
   "source": [
    "Usando Regressão Linear, crie um modelo de previsão de renda de forma a minimizar o erro. Considere 70% dos dados para treinar o modelo, e 30% para testá-lo. Por fim, utilize as métricas de avaliação do modelo que foram estudadas para validá-lo."
   ]
  },
  {
   "cell_type": "code",
   "execution_count": null,
   "metadata": {},
   "outputs": [
    {
     "name": "stdout",
     "output_type": "stream",
     "text": [
      "<class 'pandas.core.frame.DataFrame'>\n",
      "Int64Index: 11121 entries, 1849 to 25721\n",
      "Data columns (total 60 columns):\n",
      " #   Column                                         Non-Null Count  Dtype \n",
      "---  ------                                         --------------  ----- \n",
      " 0   Total Household Income                         11121 non-null  int64 \n",
      " 1   Region                                         11121 non-null  object\n",
      " 2   Total Food Expenditure                         11121 non-null  int64 \n",
      " 3   Main Source of Income                          11121 non-null  object\n",
      " 4   Agricultural Household indicator               11121 non-null  int64 \n",
      " 5   Bread and Cereals Expenditure                  11121 non-null  int64 \n",
      " 6   Total Rice Expenditure                         11121 non-null  int64 \n",
      " 7   Meat Expenditure                               11121 non-null  int64 \n",
      " 8   Total Fish and  marine products Expenditure    11121 non-null  int64 \n",
      " 9   Fruit Expenditure                              11121 non-null  int64 \n",
      " 10  Vegetables Expenditure                         11121 non-null  int64 \n",
      " 11  Restaurant and hotels Expenditure              11121 non-null  int64 \n",
      " 12  Alcoholic Beverages Expenditure                11121 non-null  int64 \n",
      " 13  Tobacco Expenditure                            11121 non-null  int64 \n",
      " 14  Clothing, Footwear and Other Wear Expenditure  11121 non-null  int64 \n",
      " 15  Housing and water Expenditure                  11121 non-null  int64 \n",
      " 16  Imputed House Rental Value                     11121 non-null  int64 \n",
      " 17  Medical Care Expenditure                       11121 non-null  int64 \n",
      " 18  Transportation Expenditure                     11121 non-null  int64 \n",
      " 19  Communication Expenditure                      11121 non-null  int64 \n",
      " 20  Education Expenditure                          11121 non-null  int64 \n",
      " 21  Miscellaneous Goods and Services Expenditure   11121 non-null  int64 \n",
      " 22  Special Occasions Expenditure                  11121 non-null  int64 \n",
      " 23  Crop Farming and Gardening expenses            11121 non-null  int64 \n",
      " 24  Total Income from Entrepreneurial Acitivites   11121 non-null  int64 \n",
      " 25  Household Head Sex                             11121 non-null  object\n",
      " 26  Household Head Age                             11121 non-null  int64 \n",
      " 27  Household Head Marital Status                  11121 non-null  object\n",
      " 28  Household Head Highest Grade Completed         11121 non-null  object\n",
      " 29  Household Head Job or Business Indicator       11121 non-null  object\n",
      " 30  Household Head Occupation                      9088 non-null   object\n",
      " 31  Household Head Class of Worker                 9088 non-null   object\n",
      " 32  Type of Household                              11121 non-null  object\n",
      " 33  Total Number of Family members                 11121 non-null  int64 \n",
      " 34  Members with age less than 5 year old          11121 non-null  int64 \n",
      " 35  Members with age 5 - 17 years old              11121 non-null  int64 \n",
      " 36  Total number of family members employed        11121 non-null  int64 \n",
      " 37  Type of Building/House                         11121 non-null  object\n",
      " 38  Type of Roof                                   11121 non-null  object\n",
      " 39  Type of Walls                                  11121 non-null  object\n",
      " 40  House Floor Area                               11121 non-null  int64 \n",
      " 41  House Age                                      11121 non-null  int64 \n",
      " 42  Number of bedrooms                             11121 non-null  int64 \n",
      " 43  Tenure Status                                  11121 non-null  object\n",
      " 44  Toilet Facilities                              11121 non-null  object\n",
      " 45  Electricity                                    11121 non-null  int64 \n",
      " 46  Main Source of Water Supply                    11121 non-null  object\n",
      " 47  Number of Television                           11121 non-null  int64 \n",
      " 48  Number of CD/VCD/DVD                           11121 non-null  int64 \n",
      " 49  Number of Component/Stereo set                 11121 non-null  int64 \n",
      " 50  Number of Refrigerator/Freezer                 11121 non-null  int64 \n",
      " 51  Number of Washing Machine                      11121 non-null  int64 \n",
      " 52  Number of Airconditioner                       11121 non-null  int64 \n",
      " 53  Number of Car, Jeep, Van                       11121 non-null  int64 \n",
      " 54  Number of Landline/wireless telephones         11121 non-null  int64 \n",
      " 55  Number of Cellular phone                       11121 non-null  int64 \n",
      " 56  Number of Personal Computer                    11121 non-null  int64 \n",
      " 57  Number of Stove with Oven/Gas Range            11121 non-null  int64 \n",
      " 58  Number of Motorized Banca                      11121 non-null  int64 \n",
      " 59  Number of Motorcycle/Tricycle                  11121 non-null  int64 \n",
      "dtypes: int64(45), object(15)\n",
      "memory usage: 5.2+ MB\n"
     ]
    }
   ],
   "source": [
    "new_sample.info()"
   ]
  },
  {
   "cell_type": "code",
   "execution_count": null,
   "metadata": {},
   "outputs": [
    {
     "data": {
      "text/plain": [
       "(11121, 60)"
      ]
     },
     "execution_count": 55,
     "metadata": {},
     "output_type": "execute_result"
    }
   ],
   "source": [
    "new_sample.shape"
   ]
  },
  {
   "cell_type": "code",
   "execution_count": null,
   "metadata": {},
   "outputs": [],
   "source": [
    "def correlations(dataframe, threshold):\n",
    "    \"\"\" Função que percorre um DataFrame filtrando os valores númericos, determinando o Coeficiencte de Correlação de Pearson de x (Renda familiar Total) e o y (colunas). Se este valor de Pearson for maior que o Limiar desejado adicionamos a Lista de Colunas à ser retornada  \"\"\"\n",
    "\n",
    "    features = []\n",
    "\n",
    "    for column in dataframe.columns:\n",
    "        \n",
    "        if dataframe[column].dtype == 'int64':\n",
    "            pearson_correlation_coefficient, p_value = pearsonr(dataframe['Total Household Income'], dataframe[column])\n",
    "\n",
    "            if pearson_correlation_coefficient > threshold:\n",
    "                features.append(column)\n",
    "\n",
    "    return features    "
   ]
  },
  {
   "cell_type": "code",
   "execution_count": null,
   "metadata": {},
   "outputs": [
    {
     "data": {
      "text/plain": [
       "['Total Household Income',\n",
       " 'Total Food Expenditure',\n",
       " 'Clothing, Footwear and Other Wear Expenditure',\n",
       " 'Housing and water Expenditure',\n",
       " 'Imputed House Rental Value',\n",
       " 'Transportation Expenditure',\n",
       " 'Communication Expenditure',\n",
       " 'Miscellaneous Goods and Services Expenditure']"
      ]
     },
     "execution_count": 57,
     "metadata": {},
     "output_type": "execute_result"
    }
   ],
   "source": [
    "correlations(new_sample, 0.6)\n"
   ]
  },
  {
   "cell_type": "code",
   "execution_count": null,
   "metadata": {},
   "outputs": [],
   "source": [
    "features = ['Total Food Expenditure',\n",
    " 'Clothing, Footwear and Other Wear Expenditure',\n",
    " 'Housing and water Expenditure', \n",
    " 'Imputed House Rental Value',\n",
    " 'Transportation Expenditure',\n",
    " 'Communication Expenditure',\n",
    " 'Miscellaneous Goods and Services Expenditure']\n",
    "\n",
    "# Retirar: 'Imputed House Rental Value' (Valor imputado do aluguel da casa), \n",
    "# Pois pode ser considerado valor duplicado, no item 'Housing and water Expenditure' (Despesas de habitação e água)\n",
    "# Provavelmente o custo de aluguel já está incluso nos despesas com habitação e água \n"
   ]
  },
  {
   "cell_type": "code",
   "execution_count": null,
   "metadata": {},
   "outputs": [
    {
     "data": {
      "text/plain": [
       "(11121, 7)"
      ]
     },
     "execution_count": 59,
     "metadata": {},
     "output_type": "execute_result"
    }
   ],
   "source": [
    "X = new_sample[features]\n",
    "X.shape"
   ]
  },
  {
   "cell_type": "code",
   "execution_count": null,
   "metadata": {},
   "outputs": [
    {
     "data": {
      "text/plain": [
       "(11121,)"
      ]
     },
     "execution_count": 60,
     "metadata": {},
     "output_type": "execute_result"
    }
   ],
   "source": [
    "y = new_sample['Total Household Income']\n",
    "y.shape"
   ]
  },
  {
   "cell_type": "code",
   "execution_count": null,
   "metadata": {},
   "outputs": [],
   "source": [
    "lr = LinearRegression().fit(X,y)"
   ]
  },
  {
   "cell_type": "code",
   "execution_count": null,
   "metadata": {},
   "outputs": [],
   "source": [
    "y_estimated = lr.predict(X)"
   ]
  },
  {
   "cell_type": "code",
   "execution_count": null,
   "metadata": {},
   "outputs": [
    {
     "data": {
      "text/plain": [
       "0.7493446490124738"
      ]
     },
     "execution_count": 63,
     "metadata": {},
     "output_type": "execute_result"
    }
   ],
   "source": [
    "lr.score(X,y)"
   ]
  },
  {
   "cell_type": "code",
   "execution_count": null,
   "metadata": {},
   "outputs": [
    {
     "data": {
      "text/plain": [
       "0.7493446490124738"
      ]
     },
     "execution_count": 64,
     "metadata": {},
     "output_type": "execute_result"
    }
   ],
   "source": [
    "r2_score(y,y_estimated)"
   ]
  },
  {
   "cell_type": "code",
   "execution_count": null,
   "metadata": {},
   "outputs": [
    {
     "data": {
      "text/html": [
       "<table class=\"simpletable\">\n",
       "<caption>OLS Regression Results</caption>\n",
       "<tr>\n",
       "  <th>Dep. Variable:</th>    <td>Total Household Income</td> <th>  R-squared:         </th>  <td>   0.749</td>  \n",
       "</tr>\n",
       "<tr>\n",
       "  <th>Model:</th>                      <td>OLS</td>          <th>  Adj. R-squared:    </th>  <td>   0.749</td>  \n",
       "</tr>\n",
       "<tr>\n",
       "  <th>Method:</th>                <td>Least Squares</td>     <th>  F-statistic:       </th>  <td>   4746.</td>  \n",
       "</tr>\n",
       "<tr>\n",
       "  <th>Date:</th>                <td>Sat, 18 Dec 2021</td>    <th>  Prob (F-statistic):</th>   <td>  0.00</td>   \n",
       "</tr>\n",
       "<tr>\n",
       "  <th>Time:</th>                    <td>21:20:58</td>        <th>  Log-Likelihood:    </th> <td>-1.4773e+05</td>\n",
       "</tr>\n",
       "<tr>\n",
       "  <th>No. Observations:</th>         <td> 11121</td>         <th>  AIC:               </th>  <td>2.955e+05</td> \n",
       "</tr>\n",
       "<tr>\n",
       "  <th>Df Residuals:</th>             <td> 11113</td>         <th>  BIC:               </th>  <td>2.955e+05</td> \n",
       "</tr>\n",
       "<tr>\n",
       "  <th>Df Model:</th>                 <td>     7</td>         <th>                     </th>      <td> </td>     \n",
       "</tr>\n",
       "<tr>\n",
       "  <th>Covariance Type:</th>         <td>nonrobust</td>       <th>                     </th>      <td> </td>     \n",
       "</tr>\n",
       "</table>\n",
       "<table class=\"simpletable\">\n",
       "<tr>\n",
       "                        <td></td>                           <th>coef</th>     <th>std err</th>      <th>t</th>      <th>P>|t|</th>  <th>[0.025</th>    <th>0.975]</th>  \n",
       "</tr>\n",
       "<tr>\n",
       "  <th>const</th>                                         <td> 7193.1549</td> <td> 2756.235</td> <td>    2.610</td> <td> 0.009</td> <td> 1790.444</td> <td> 1.26e+04</td>\n",
       "</tr>\n",
       "<tr>\n",
       "  <th>Total Food Expenditure</th>                        <td>    0.8137</td> <td>    0.039</td> <td>   20.905</td> <td> 0.000</td> <td>    0.737</td> <td>    0.890</td>\n",
       "</tr>\n",
       "<tr>\n",
       "  <th>Clothing, Footwear and Other Wear Expenditure</th> <td>    5.4166</td> <td>    0.236</td> <td>   22.954</td> <td> 0.000</td> <td>    4.954</td> <td>    5.879</td>\n",
       "</tr>\n",
       "<tr>\n",
       "  <th>Housing and water Expenditure</th>                 <td>    1.1041</td> <td>    0.075</td> <td>   14.795</td> <td> 0.000</td> <td>    0.958</td> <td>    1.250</td>\n",
       "</tr>\n",
       "<tr>\n",
       "  <th>Imputed House Rental Value</th>                    <td>    0.7309</td> <td>    0.088</td> <td>    8.303</td> <td> 0.000</td> <td>    0.558</td> <td>    0.903</td>\n",
       "</tr>\n",
       "<tr>\n",
       "  <th>Transportation Expenditure</th>                    <td>    2.7421</td> <td>    0.103</td> <td>   26.504</td> <td> 0.000</td> <td>    2.539</td> <td>    2.945</td>\n",
       "</tr>\n",
       "<tr>\n",
       "  <th>Communication Expenditure</th>                     <td>    4.7352</td> <td>    0.294</td> <td>   16.110</td> <td> 0.000</td> <td>    4.159</td> <td>    5.311</td>\n",
       "</tr>\n",
       "<tr>\n",
       "  <th>Miscellaneous Goods and Services Expenditure</th>  <td>    2.8021</td> <td>    0.113</td> <td>   24.759</td> <td> 0.000</td> <td>    2.580</td> <td>    3.024</td>\n",
       "</tr>\n",
       "</table>\n",
       "<table class=\"simpletable\">\n",
       "<tr>\n",
       "  <th>Omnibus:</th>       <td>16979.588</td> <th>  Durbin-Watson:     </th>   <td>   1.996</td>  \n",
       "</tr>\n",
       "<tr>\n",
       "  <th>Prob(Omnibus):</th>  <td> 0.000</td>   <th>  Jarque-Bera (JB):  </th> <td>18911525.919</td>\n",
       "</tr>\n",
       "<tr>\n",
       "  <th>Skew:</th>           <td> 9.214</td>   <th>  Prob(JB):          </th>   <td>    0.00</td>  \n",
       "</tr>\n",
       "<tr>\n",
       "  <th>Kurtosis:</th>       <td>204.179</td>  <th>  Cond. No.          </th>   <td>2.49e+05</td>  \n",
       "</tr>\n",
       "</table><br/><br/>Notes:<br/>[1] Standard Errors assume that the covariance matrix of the errors is correctly specified.<br/>[2] The condition number is large, 2.49e+05. This might indicate that there are<br/>strong multicollinearity or other numerical problems."
      ],
      "text/plain": [
       "<class 'statsmodels.iolib.summary.Summary'>\n",
       "\"\"\"\n",
       "                              OLS Regression Results                              \n",
       "==================================================================================\n",
       "Dep. Variable:     Total Household Income   R-squared:                       0.749\n",
       "Model:                                OLS   Adj. R-squared:                  0.749\n",
       "Method:                     Least Squares   F-statistic:                     4746.\n",
       "Date:                    Sat, 18 Dec 2021   Prob (F-statistic):               0.00\n",
       "Time:                            21:20:58   Log-Likelihood:            -1.4773e+05\n",
       "No. Observations:                   11121   AIC:                         2.955e+05\n",
       "Df Residuals:                       11113   BIC:                         2.955e+05\n",
       "Df Model:                               7                                         \n",
       "Covariance Type:                nonrobust                                         \n",
       "=================================================================================================================\n",
       "                                                    coef    std err          t      P>|t|      [0.025      0.975]\n",
       "-----------------------------------------------------------------------------------------------------------------\n",
       "const                                          7193.1549   2756.235      2.610      0.009    1790.444    1.26e+04\n",
       "Total Food Expenditure                            0.8137      0.039     20.905      0.000       0.737       0.890\n",
       "Clothing, Footwear and Other Wear Expenditure     5.4166      0.236     22.954      0.000       4.954       5.879\n",
       "Housing and water Expenditure                     1.1041      0.075     14.795      0.000       0.958       1.250\n",
       "Imputed House Rental Value                        0.7309      0.088      8.303      0.000       0.558       0.903\n",
       "Transportation Expenditure                        2.7421      0.103     26.504      0.000       2.539       2.945\n",
       "Communication Expenditure                         4.7352      0.294     16.110      0.000       4.159       5.311\n",
       "Miscellaneous Goods and Services Expenditure      2.8021      0.113     24.759      0.000       2.580       3.024\n",
       "==============================================================================\n",
       "Omnibus:                    16979.588   Durbin-Watson:                   1.996\n",
       "Prob(Omnibus):                  0.000   Jarque-Bera (JB):         18911525.919\n",
       "Skew:                           9.214   Prob(JB):                         0.00\n",
       "Kurtosis:                     204.179   Cond. No.                     2.49e+05\n",
       "==============================================================================\n",
       "\n",
       "Notes:\n",
       "[1] Standard Errors assume that the covariance matrix of the errors is correctly specified.\n",
       "[2] The condition number is large, 2.49e+05. This might indicate that there are\n",
       "strong multicollinearity or other numerical problems.\n",
       "\"\"\""
      ]
     },
     "execution_count": 65,
     "metadata": {},
     "output_type": "execute_result"
    }
   ],
   "source": [
    "x = sm.add_constant(X)\n",
    "model = sm.OLS(y,x).fit()\n",
    "model.summary()"
   ]
  },
  {
   "cell_type": "code",
   "execution_count": null,
   "metadata": {},
   "outputs": [
    {
     "data": {
      "text/plain": [
       "1.6413921825792086e-11"
      ]
     },
     "execution_count": 66,
     "metadata": {},
     "output_type": "execute_result"
    }
   ],
   "source": [
    "# Média dos resíduos\n",
    "model.resid.mean()"
   ]
  },
  {
   "cell_type": "code",
   "execution_count": null,
   "metadata": {},
   "outputs": [],
   "source": [
    "plt.figure(figsize=(8, 7))\n",
    "sns.histplot(model.resid, kde=True);"
   ]
  },
  {
   "cell_type": "code",
   "execution_count": null,
   "metadata": {},
   "outputs": [
    {
     "data": {
      "image/png": "[encoded data removed]",
      "text/plain": [
       "<Figure size 576x504 with 1 Axes>"
      ]
     },
     "metadata": {
      "needs_background": "light"
     },
     "output_type": "display_data"
    }
   ],
   "source": [
    "plt.figure(figsize=(8, 7))\n",
    "plt.scatter(y, model.resid);\n"
   ]
  },
  {
   "cell_type": "code",
   "execution_count": null,
   "metadata": {},
   "outputs": [
    {
     "data": {
      "image/png": "[encoded data removed]",
      "text/plain": [
       "<Figure size 576x504 with 2 Axes>"
      ]
     },
     "metadata": {
      "needs_background": "light"
     },
     "output_type": "display_data"
    }
   ],
   "source": [
    "plt.figure(figsize=(8, 7))\n",
    "sns.heatmap(X.corr(), cmap='coolwarm', annot=True, vmin=-1, vmax=1);"
   ]
  },
  {
   "cell_type": "code",
   "execution_count": null,
   "metadata": {},
   "outputs": [
    {
     "data": {
      "text/plain": [
       "<Figure size 576x720 with 0 Axes>"
      ]
     },
     "metadata": {},
     "output_type": "display_data"
    },
    {
     "data": {
      "image/png": "[encoded data removed]",
      "text/plain": [
       "<Figure size 432x432 with 3 Axes>"
      ]
     },
     "metadata": {
      "needs_background": "light"
     },
     "output_type": "display_data"
    }
   ],
   "source": [
    "plt.figure(figsize=(8, 10))\n",
    "sns.jointplot(data=new_sample, x='Total Household Income', y='Imputed House Rental Value', kind='reg');"
   ]
  },
  {
   "cell_type": "code",
   "execution_count": null,
   "metadata": {},
   "outputs": [
    {
     "data": {
      "image/png": "[encoded data removed]",
      "text/plain": [
       "<Figure size 1080x720 with 1 Axes>"
      ]
     },
     "metadata": {
      "needs_background": "light"
     },
     "output_type": "display_data"
    }
   ],
   "source": [
    "df.boxplot(column = features, figsize = (15,10));\n",
    "plt. xticks(rotation=90);"
   ]
  },
  {
   "cell_type": "markdown",
   "metadata": {},
   "source": [
    "## Retirando Outliers"
   ]
  },
  {
   "cell_type": "code",
   "execution_count": null,
   "metadata": {},
   "outputs": [],
   "source": [
    "def calc_min_and_max_range(data_features):\n",
    "    Q1 = data_features.quantile(q=0.25) # Primeiro quartil\n",
    "    Q3 = data_features.quantile(q=0.75) # Terceiro quartil\n",
    "\n",
    "    IQR = Q3 - Q1 # Intervalo interquartílico\n",
    "\n",
    "    low = Q1 - 1.5 * IQR\n",
    "    up = Q3 + 1.5 * IQR\n",
    "\n",
    "    return low, up\n"
   ]
  },
  {
   "cell_type": "code",
   "execution_count": null,
   "metadata": {},
   "outputs": [
    {
     "data": {
      "text/plain": [
       "(Total Household Income                          -176506.5\n",
       " Total Food Expenditure                           -31384.5\n",
       " Agricultural Household indicator                     -1.5\n",
       " Bread and Cereals Expenditure                     -5757.0\n",
       " Total Rice Expenditure                            -8285.0\n",
       " Meat Expenditure                                 -13320.0\n",
       " Total Fish and  marine products Expenditure       -6380.0\n",
       " Fruit Expenditure                                 -2147.5\n",
       " Vegetables Expenditure                            -2253.0\n",
       " Restaurant and hotels Expenditure                -25190.0\n",
       " Alcoholic Beverages Expenditure                   -1950.0\n",
       " Tobacco Expenditure                               -4680.0\n",
       " Clothing, Footwear and Other Wear Expenditure     -5017.5\n",
       " Housing and water Expenditure                    -37623.0\n",
       " Imputed House Rental Value                       -21000.0\n",
       " Medical Care Expenditure                          -6317.5\n",
       " Transportation Expenditure                       -14700.0\n",
       " Communication Expenditure                         -4602.0\n",
       " Education Expenditure                             -6000.0\n",
       " Miscellaneous Goods and Services Expenditure     -11424.0\n",
       " Special Occasions Expenditure                     -7500.0\n",
       " Crop Farming and Gardening expenses               -8557.5\n",
       " Total Income from Entrepreneurial Acitivites     -97647.0\n",
       " Household Head Age                                   11.0\n",
       " Total Number of Family members                       -1.5\n",
       " Members with age less than 5 year old                -1.5\n",
       " Members with age 5 - 17 years old                    -3.0\n",
       " Total number of family members employed              -3.0\n",
       " House Floor Area                                    -42.5\n",
       " House Age                                           -15.5\n",
       " Number of bedrooms                                   -0.5\n",
       " Electricity                                           1.0\n",
       " Number of Television                                 -1.5\n",
       " Number of CD/VCD/DVD                                 -1.5\n",
       " Number of Component/Stereo set                        0.0\n",
       " Number of Refrigerator/Freezer                       -1.5\n",
       " Number of Washing Machine                            -1.5\n",
       " Number of Airconditioner                              0.0\n",
       " Number of Car, Jeep, Van                              0.0\n",
       " Number of Landline/wireless telephones                0.0\n",
       " Number of Cellular phone                             -2.0\n",
       " Number of Personal Computer                           0.0\n",
       " Number of Stove with Oven/Gas Range                   0.0\n",
       " Number of Motorized Banca                             0.0\n",
       " Number of Motorcycle/Tricycle                         0.0\n",
       " dtype: float64,\n",
       " Total Household Income                           573897.5\n",
       " Total Food Expenditure                           187923.5\n",
       " Agricultural Household indicator                      2.5\n",
       " Bread and Cereals Expenditure                     53627.0\n",
       " Total Rice Expenditure                            43115.0\n",
       " Meat Expenditure                                  31064.0\n",
       " Total Fish and  marine products Expenditure       25220.0\n",
       " Fruit Expenditure                                  6272.5\n",
       " Vegetables Expenditure                            11355.0\n",
       " Restaurant and hotels Expenditure                 47050.0\n",
       " Alcoholic Beverages Expenditure                    3250.0\n",
       " Tobacco Expenditure                                7800.0\n",
       " Clothing, Footwear and Other Wear Expenditure     11970.5\n",
       " Housing and water Expenditure                     97617.0\n",
       " Imputed House Rental Value                        51000.0\n",
       " Medical Care Expenditure                          11350.5\n",
       " Transportation Expenditure                        30900.0\n",
       " Communication Expenditure                          9174.0\n",
       " Education Expenditure                             10000.0\n",
       " Miscellaneous Goods and Services Expenditure      29280.0\n",
       " Special Occasions Expenditure                     12500.0\n",
       " Crop Farming and Gardening expenses               14262.5\n",
       " Total Income from Entrepreneurial Acitivites     162745.0\n",
       " Household Head Age                                   91.0\n",
       " Total Number of Family members                       10.5\n",
       " Members with age less than 5 year old                 2.5\n",
       " Members with age 5 - 17 years old                     5.0\n",
       " Total number of family members employed               5.0\n",
       " House Floor Area                                    137.5\n",
       " House Age                                            52.5\n",
       " Number of bedrooms                                    3.5\n",
       " Electricity                                           1.0\n",
       " Number of Television                                  2.5\n",
       " Number of CD/VCD/DVD                                  2.5\n",
       " Number of Component/Stereo set                        0.0\n",
       " Number of Refrigerator/Freezer                        2.5\n",
       " Number of Washing Machine                             2.5\n",
       " Number of Airconditioner                              0.0\n",
       " Number of Car, Jeep, Van                              0.0\n",
       " Number of Landline/wireless telephones                0.0\n",
       " Number of Cellular phone                              6.0\n",
       " Number of Personal Computer                           0.0\n",
       " Number of Stove with Oven/Gas Range                   0.0\n",
       " Number of Motorized Banca                             0.0\n",
       " Number of Motorcycle/Tricycle                         0.0\n",
       " dtype: float64)"
      ]
     },
     "execution_count": 72,
     "metadata": {},
     "output_type": "execute_result"
    }
   ],
   "source": [
    "calc_min_and_max_range(new_sample)"
   ]
  },
  {
   "cell_type": "code",
   "execution_count": null,
   "metadata": {},
   "outputs": [],
   "source": [
    "columns_to_remove_outliers = ['Total Household Income', \n",
    "       'Total Food Expenditure',\n",
    "       'Clothing, Footwear and Other Wear Expenditure',\n",
    "       'Housing and water Expenditure', \n",
    "       'Imputed House Rental Value',\n",
    "       'Transportation Expenditure', \n",
    "       'Communication Expenditure',\n",
    "       'Miscellaneous Goods and Services Expenditure']\n",
    "\n",
    "for column in columns_to_remove_outliers:\n",
    "    low, up = calc_min_and_max_range(new_sample[features])\n",
    "    \n",
    "    # Filtro para pegar apenas as linhas cujos dados estão dentro do intervalo aceitável (não outliers)\n",
    "    df = df[(new_sample[features] >= low) & (new_sample[features] <= up)]"
   ]
  },
  {
   "cell_type": "code",
   "execution_count": null,
   "metadata": {},
   "outputs": [
    {
     "data": {
      "text/plain": [
       "(11121, 60)"
      ]
     },
     "execution_count": 74,
     "metadata": {},
     "output_type": "execute_result"
    }
   ],
   "source": [
    "new_sample.shape"
   ]
  },
  {
   "cell_type": "code",
   "execution_count": null,
   "metadata": {},
   "outputs": [
    {
     "data": {
      "text/html": [
       "<div>\n",
       "<style scoped>\n",
       "    .dataframe tbody tr th:only-of-type {\n",
       "        vertical-align: middle;\n",
       "    }\n",
       "\n",
       "    .dataframe tbody tr th {\n",
       "        vertical-align: top;\n",
       "    }\n",
       "\n",
       "    .dataframe thead th {\n",
       "        text-align: right;\n",
       "    }\n",
       "</style>\n",
       "<table border=\"1\" class=\"dataframe\">\n",
       "  <thead>\n",
       "    <tr style=\"text-align: right;\">\n",
       "      <th></th>\n",
       "      <th>Total Food Expenditure</th>\n",
       "      <th>Clothing, Footwear and Other Wear Expenditure</th>\n",
       "      <th>Housing and water Expenditure</th>\n",
       "      <th>Imputed House Rental Value</th>\n",
       "      <th>Transportation Expenditure</th>\n",
       "      <th>Communication Expenditure</th>\n",
       "      <th>Miscellaneous Goods and Services Expenditure</th>\n",
       "    </tr>\n",
       "  </thead>\n",
       "  <tbody>\n",
       "    <tr>\n",
       "      <th>1849</th>\n",
       "      <td>85025</td>\n",
       "      <td>2720</td>\n",
       "      <td>9240</td>\n",
       "      <td>6000</td>\n",
       "      <td>9846</td>\n",
       "      <td>2136</td>\n",
       "      <td>4500</td>\n",
       "    </tr>\n",
       "    <tr>\n",
       "      <th>29179</th>\n",
       "      <td>71775</td>\n",
       "      <td>3500</td>\n",
       "      <td>22650</td>\n",
       "      <td>12000</td>\n",
       "      <td>4608</td>\n",
       "      <td>1428</td>\n",
       "      <td>11622</td>\n",
       "    </tr>\n",
       "  </tbody>\n",
       "</table>\n",
       "</div>"
      ],
      "text/plain": [
       "       Total Food Expenditure  Clothing, Footwear and Other Wear Expenditure  \\\n",
       "1849                    85025                                           2720   \n",
       "29179                   71775                                           3500   \n",
       "\n",
       "       Housing and water Expenditure  Imputed House Rental Value  \\\n",
       "1849                            9240                        6000   \n",
       "29179                          22650                       12000   \n",
       "\n",
       "       Transportation Expenditure  Communication Expenditure  \\\n",
       "1849                         9846                       2136   \n",
       "29179                        4608                       1428   \n",
       "\n",
       "       Miscellaneous Goods and Services Expenditure  \n",
       "1849                                           4500  \n",
       "29179                                         11622  "
      ]
     },
     "execution_count": 75,
     "metadata": {},
     "output_type": "execute_result"
    }
   ],
   "source": [
    "X_final = new_sample[['Total Food Expenditure',\n",
    "       'Clothing, Footwear and Other Wear Expenditure',\n",
    "       'Housing and water Expenditure', \n",
    "       'Imputed House Rental Value',\n",
    "       'Transportation Expenditure', \n",
    "       'Communication Expenditure',\n",
    "       'Miscellaneous Goods and Services Expenditure']]\n",
    "X_final.head(2)"
   ]
  },
  {
   "cell_type": "code",
   "execution_count": null,
   "metadata": {},
   "outputs": [
    {
     "data": {
      "text/html": [
       "<div>\n",
       "<style scoped>\n",
       "    .dataframe tbody tr th:only-of-type {\n",
       "        vertical-align: middle;\n",
       "    }\n",
       "\n",
       "    .dataframe tbody tr th {\n",
       "        vertical-align: top;\n",
       "    }\n",
       "\n",
       "    .dataframe thead th {\n",
       "        text-align: right;\n",
       "    }\n",
       "</style>\n",
       "<table border=\"1\" class=\"dataframe\">\n",
       "  <thead>\n",
       "    <tr style=\"text-align: right;\">\n",
       "      <th></th>\n",
       "      <th>Total Household Income</th>\n",
       "    </tr>\n",
       "  </thead>\n",
       "  <tbody>\n",
       "    <tr>\n",
       "      <th>1849</th>\n",
       "      <td>162566</td>\n",
       "    </tr>\n",
       "    <tr>\n",
       "      <th>29179</th>\n",
       "      <td>218765</td>\n",
       "    </tr>\n",
       "  </tbody>\n",
       "</table>\n",
       "</div>"
      ],
      "text/plain": [
       "       Total Household Income\n",
       "1849                   162566\n",
       "29179                  218765"
      ]
     },
     "execution_count": 76,
     "metadata": {},
     "output_type": "execute_result"
    }
   ],
   "source": [
    "y_final = new_sample[['Total Household Income']]\n",
    "y_final.head(2)"
   ]
  },
  {
   "cell_type": "code",
   "execution_count": null,
   "metadata": {},
   "outputs": [],
   "source": [
    "# Teste = 0.3\n",
    "X_train, X_test, y_train, y_test = train_test_split(X_final, y_final, test_size=0.3, random_state=101)"
   ]
  },
  {
   "cell_type": "code",
   "execution_count": null,
   "metadata": {},
   "outputs": [
    {
     "data": {
      "text/plain": [
       "(7784, 7)"
      ]
     },
     "execution_count": 78,
     "metadata": {},
     "output_type": "execute_result"
    }
   ],
   "source": [
    "X_train.shape"
   ]
  },
  {
   "cell_type": "code",
   "execution_count": null,
   "metadata": {},
   "outputs": [
    {
     "data": {
      "text/plain": [
       "(11121, 7)"
      ]
     },
     "execution_count": 79,
     "metadata": {},
     "output_type": "execute_result"
    }
   ],
   "source": [
    "X_final.shape"
   ]
  },
  {
   "cell_type": "code",
   "execution_count": null,
   "metadata": {},
   "outputs": [
    {
     "data": {
      "text/plain": [
       "(3337, 7)"
      ]
     },
     "execution_count": 80,
     "metadata": {},
     "output_type": "execute_result"
    }
   ],
   "source": [
    "X_test.shape"
   ]
  },
  {
   "cell_type": "code",
   "execution_count": null,
   "metadata": {},
   "outputs": [],
   "source": [
    "lr_final = LinearRegression().fit(X_train, y_train)"
   ]
  },
  {
   "cell_type": "code",
   "execution_count": null,
   "metadata": {},
   "outputs": [],
   "source": [
    "y_estimated_final = lr_final.predict(X_test) "
   ]
  },
  {
   "cell_type": "code",
   "execution_count": null,
   "metadata": {},
   "outputs": [
    {
     "data": {
      "text/plain": [
       "0.7146296333507499"
      ]
     },
     "execution_count": 83,
     "metadata": {},
     "output_type": "execute_result"
    }
   ],
   "source": [
    "r2_score(y_test, y_estimated_final)"
   ]
  },
  {
   "cell_type": "code",
   "execution_count": null,
   "metadata": {},
   "outputs": [
    {
     "data": {
      "text/plain": [
       "0.7595205363216024"
      ]
     },
     "execution_count": 84,
     "metadata": {},
     "output_type": "execute_result"
    }
   ],
   "source": [
    "lr.score(X_train, y_train)"
   ]
  },
  {
   "cell_type": "code",
   "execution_count": null,
   "metadata": {},
   "outputs": [
    {
     "data": {
      "text/html": [
       "<table class=\"simpletable\">\n",
       "<caption>OLS Regression Results</caption>\n",
       "<tr>\n",
       "  <th>Dep. Variable:</th>    <td>Total Household Income</td> <th>  R-squared:         </th>  <td>   0.749</td>  \n",
       "</tr>\n",
       "<tr>\n",
       "  <th>Model:</th>                      <td>OLS</td>          <th>  Adj. R-squared:    </th>  <td>   0.749</td>  \n",
       "</tr>\n",
       "<tr>\n",
       "  <th>Method:</th>                <td>Least Squares</td>     <th>  F-statistic:       </th>  <td>   4746.</td>  \n",
       "</tr>\n",
       "<tr>\n",
       "  <th>Date:</th>                <td>Sat, 18 Dec 2021</td>    <th>  Prob (F-statistic):</th>   <td>  0.00</td>   \n",
       "</tr>\n",
       "<tr>\n",
       "  <th>Time:</th>                    <td>20:57:38</td>        <th>  Log-Likelihood:    </th> <td>-1.4773e+05</td>\n",
       "</tr>\n",
       "<tr>\n",
       "  <th>No. Observations:</th>         <td> 11121</td>         <th>  AIC:               </th>  <td>2.955e+05</td> \n",
       "</tr>\n",
       "<tr>\n",
       "  <th>Df Residuals:</th>             <td> 11113</td>         <th>  BIC:               </th>  <td>2.955e+05</td> \n",
       "</tr>\n",
       "<tr>\n",
       "  <th>Df Model:</th>                 <td>     7</td>         <th>                     </th>      <td> </td>     \n",
       "</tr>\n",
       "<tr>\n",
       "  <th>Covariance Type:</th>         <td>nonrobust</td>       <th>                     </th>      <td> </td>     \n",
       "</tr>\n",
       "</table>\n",
       "<table class=\"simpletable\">\n",
       "<tr>\n",
       "                        <td></td>                           <th>coef</th>     <th>std err</th>      <th>t</th>      <th>P>|t|</th>  <th>[0.025</th>    <th>0.975]</th>  \n",
       "</tr>\n",
       "<tr>\n",
       "  <th>const</th>                                         <td> 7193.1549</td> <td> 2756.235</td> <td>    2.610</td> <td> 0.009</td> <td> 1790.444</td> <td> 1.26e+04</td>\n",
       "</tr>\n",
       "<tr>\n",
       "  <th>Total Food Expenditure</th>                        <td>    0.8137</td> <td>    0.039</td> <td>   20.905</td> <td> 0.000</td> <td>    0.737</td> <td>    0.890</td>\n",
       "</tr>\n",
       "<tr>\n",
       "  <th>Clothing, Footwear and Other Wear Expenditure</th> <td>    5.4166</td> <td>    0.236</td> <td>   22.954</td> <td> 0.000</td> <td>    4.954</td> <td>    5.879</td>\n",
       "</tr>\n",
       "<tr>\n",
       "  <th>Housing and water Expenditure</th>                 <td>    1.1041</td> <td>    0.075</td> <td>   14.795</td> <td> 0.000</td> <td>    0.958</td> <td>    1.250</td>\n",
       "</tr>\n",
       "<tr>\n",
       "  <th>Imputed House Rental Value</th>                    <td>    0.7309</td> <td>    0.088</td> <td>    8.303</td> <td> 0.000</td> <td>    0.558</td> <td>    0.903</td>\n",
       "</tr>\n",
       "<tr>\n",
       "  <th>Transportation Expenditure</th>                    <td>    2.7421</td> <td>    0.103</td> <td>   26.504</td> <td> 0.000</td> <td>    2.539</td> <td>    2.945</td>\n",
       "</tr>\n",
       "<tr>\n",
       "  <th>Communication Expenditure</th>                     <td>    4.7352</td> <td>    0.294</td> <td>   16.110</td> <td> 0.000</td> <td>    4.159</td> <td>    5.311</td>\n",
       "</tr>\n",
       "<tr>\n",
       "  <th>Miscellaneous Goods and Services Expenditure</th>  <td>    2.8021</td> <td>    0.113</td> <td>   24.759</td> <td> 0.000</td> <td>    2.580</td> <td>    3.024</td>\n",
       "</tr>\n",
       "</table>\n",
       "<table class=\"simpletable\">\n",
       "<tr>\n",
       "  <th>Omnibus:</th>       <td>16979.588</td> <th>  Durbin-Watson:     </th>   <td>   1.996</td>  \n",
       "</tr>\n",
       "<tr>\n",
       "  <th>Prob(Omnibus):</th>  <td> 0.000</td>   <th>  Jarque-Bera (JB):  </th> <td>18911525.919</td>\n",
       "</tr>\n",
       "<tr>\n",
       "  <th>Skew:</th>           <td> 9.214</td>   <th>  Prob(JB):          </th>   <td>    0.00</td>  \n",
       "</tr>\n",
       "<tr>\n",
       "  <th>Kurtosis:</th>       <td>204.179</td>  <th>  Cond. No.          </th>   <td>2.49e+05</td>  \n",
       "</tr>\n",
       "</table><br/><br/>Notes:<br/>[1] Standard Errors assume that the covariance matrix of the errors is correctly specified.<br/>[2] The condition number is large, 2.49e+05. This might indicate that there are<br/>strong multicollinearity or other numerical problems."
      ],
      "text/plain": [
       "<class 'statsmodels.iolib.summary.Summary'>\n",
       "\"\"\"\n",
       "                              OLS Regression Results                              \n",
       "==================================================================================\n",
       "Dep. Variable:     Total Household Income   R-squared:                       0.749\n",
       "Model:                                OLS   Adj. R-squared:                  0.749\n",
       "Method:                     Least Squares   F-statistic:                     4746.\n",
       "Date:                    Sat, 18 Dec 2021   Prob (F-statistic):               0.00\n",
       "Time:                            20:57:38   Log-Likelihood:            -1.4773e+05\n",
       "No. Observations:                   11121   AIC:                         2.955e+05\n",
       "Df Residuals:                       11113   BIC:                         2.955e+05\n",
       "Df Model:                               7                                         \n",
       "Covariance Type:                nonrobust                                         \n",
       "=================================================================================================================\n",
       "                                                    coef    std err          t      P>|t|      [0.025      0.975]\n",
       "-----------------------------------------------------------------------------------------------------------------\n",
       "const                                          7193.1549   2756.235      2.610      0.009    1790.444    1.26e+04\n",
       "Total Food Expenditure                            0.8137      0.039     20.905      0.000       0.737       0.890\n",
       "Clothing, Footwear and Other Wear Expenditure     5.4166      0.236     22.954      0.000       4.954       5.879\n",
       "Housing and water Expenditure                     1.1041      0.075     14.795      0.000       0.958       1.250\n",
       "Imputed House Rental Value                        0.7309      0.088      8.303      0.000       0.558       0.903\n",
       "Transportation Expenditure                        2.7421      0.103     26.504      0.000       2.539       2.945\n",
       "Communication Expenditure                         4.7352      0.294     16.110      0.000       4.159       5.311\n",
       "Miscellaneous Goods and Services Expenditure      2.8021      0.113     24.759      0.000       2.580       3.024\n",
       "==============================================================================\n",
       "Omnibus:                    16979.588   Durbin-Watson:                   1.996\n",
       "Prob(Omnibus):                  0.000   Jarque-Bera (JB):         18911525.919\n",
       "Skew:                           9.214   Prob(JB):                         0.00\n",
       "Kurtosis:                     204.179   Cond. No.                     2.49e+05\n",
       "==============================================================================\n",
       "\n",
       "Notes:\n",
       "[1] Standard Errors assume that the covariance matrix of the errors is correctly specified.\n",
       "[2] The condition number is large, 2.49e+05. This might indicate that there are\n",
       "strong multicollinearity or other numerical problems.\n",
       "\"\"\""
      ]
     },
     "execution_count": 85,
     "metadata": {},
     "output_type": "execute_result"
    }
   ],
   "source": [
    "x = sm.add_constant(X_final)\n",
    "\n",
    "model = sm.OLS(y_final, x).fit()\n",
    "\n",
    "model.summary()"
   ]
  },
  {
   "cell_type": "code",
   "execution_count": null,
   "metadata": {},
   "outputs": [
    {
     "data": {
      "text/plain": [
       "1.6413921825792086e-11"
      ]
     },
     "execution_count": 86,
     "metadata": {},
     "output_type": "execute_result"
    }
   ],
   "source": [
    "# Média dos resíduos sem outliers\n",
    "model.resid.mean()"
   ]
  },
  {
   "cell_type": "code",
   "execution_count": null,
   "metadata": {},
   "outputs": [
    {
     "data": {
      "image/png": "[encoded data removed]",
      "text/plain": [
       "<Figure size 576x504 with 1 Axes>"
      ]
     },
     "metadata": {
      "needs_background": "light"
     },
     "output_type": "display_data"
    }
   ],
   "source": [
    "plt.figure(figsize=(8, 7))\n",
    "sns.histplot(model.resid, kde=True);"
   ]
  },
  {
   "cell_type": "code",
   "execution_count": null,
   "metadata": {},
   "outputs": [
    {
     "data": {
      "image/png": "[encoded data removed]",
      "text/plain": [
       "<Figure size 576x504 with 1 Axes>"
      ]
     },
     "metadata": {
      "needs_background": "light"
     },
     "output_type": "display_data"
    }
   ],
   "source": [
    "plt.figure(figsize=(8, 7))\n",
    "plt.scatter(y_final, model.resid);"
   ]
  },
  {
   "cell_type": "code",
   "execution_count": null,
   "metadata": {},
   "outputs": [
    {
     "data": {
      "image/png": "[encoded data removed]",
      "text/plain": [
       "<Figure size 576x504 with 2 Axes>"
      ]
     },
     "metadata": {
      "needs_background": "light"
     },
     "output_type": "display_data"
    }
   ],
   "source": [
    "plt.figure(figsize=(8, 7))\n",
    "sns.heatmap(X_final.corr(), cmap='coolwarm', annot=True, vmin=-1, vmax=1);"
   ]
  },
  {
   "cell_type": "code",
   "execution_count": null,
   "metadata": {},
   "outputs": [
    {
     "data": {
      "text/plain": [
       "<Figure size 576x720 with 0 Axes>"
      ]
     },
     "metadata": {},
     "output_type": "display_data"
    },
    {
     "data": {
      "image/png": "[encoded data removed]",
      "text/plain": [
       "<Figure size 432x432 with 3 Axes>"
      ]
     },
     "metadata": {
      "needs_background": "light"
     },
     "output_type": "display_data"
    }
   ],
   "source": [
    "plt.figure(figsize=(8, 10))\n",
    "sns.jointplot(data=new_sample, x='Total Household Income', y='Imputed House Rental Value', kind='reg');"
   ]
  },
  {
   "cell_type": "code",
   "execution_count": null,
   "metadata": {},
   "outputs": [
    {
     "data": {
      "text/plain": [
       "0.7146296333507499"
      ]
     },
     "execution_count": 89,
     "metadata": {},
     "output_type": "execute_result"
    }
   ],
   "source": [
    "r2_score(y_test, y_estimated_final)"
   ]
  },
  {
   "cell_type": "code",
   "execution_count": null,
   "metadata": {},
   "outputs": [
    {
     "data": {
      "text/plain": [
       "60607.03087780607"
      ]
     },
     "execution_count": 90,
     "metadata": {},
     "output_type": "execute_result"
    }
   ],
   "source": [
    "mean_absolute_error(y_test, y_estimated_final)"
   ]
  },
  {
   "cell_type": "code",
   "execution_count": null,
   "metadata": {},
   "outputs": [
    {
     "data": {
      "text/plain": [
       "18379061736.153618"
      ]
     },
     "execution_count": 92,
     "metadata": {},
     "output_type": "execute_result"
    }
   ],
   "source": [
    "MSE(y_test, y_estimated_final)"
   ]
  },
  {
   "cell_type": "code",
   "execution_count": null,
   "metadata": {},
   "outputs": [
    {
     "data": {
      "text/plain": [
       "0.0928566688900236"
      ]
     },
     "execution_count": 94,
     "metadata": {},
     "output_type": "execute_result"
    }
   ],
   "source": [
    "mean_squared_log_error(y_test, y_estimated_final)\n"
   ]
  },
  {
   "cell_type": "code",
   "execution_count": null,
   "metadata": {},
   "outputs": [],
   "source": []
  }
 ],
 "metadata": {
  "interpreter": {
   "hash": "802ab0dd53c8f1a01e243dc1de5c60540c081d3a0bc687992721365409d7d916"
  },
  "kernelspec": {
   "display_name": "Python 3.9.5 64-bit",
   "language": "python",
   "name": "python3"
  },
  "language_info": {
   "codemirror_mode": {
    "name": "ipython",
    "version": 3
   },
   "file_extension": ".py",
   "mimetype": "text/x-python",
   "name": "python",
   "nbconvert_exporter": "python",
   "pygments_lexer": "ipython3",
   "version": "3.9.5"
  },
  "orig_nbformat": 4
 },
 "nbformat": 4,
 "nbformat_minor": 2
}
